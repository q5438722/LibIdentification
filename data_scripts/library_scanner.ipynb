{
 "cells": [
  {
   "cell_type": "code",
   "execution_count": 1,
   "id": "bb20ead6-abb2-45f2-8f99-dc74fb906381",
   "metadata": {
    "tags": []
   },
   "outputs": [],
   "source": [
    "import os, sys\n",
    "import json"
   ]
  },
  {
   "cell_type": "code",
   "execution_count": 2,
   "id": "45ccb960-8b99-48a8-aa2d-a921f7cef32a",
   "metadata": {
    "tags": []
   },
   "outputs": [],
   "source": [
    "with open('/home/chentianyu/libminer/maven_corpus_new.json', 'r') as f:\n",
    "    maven_corpus = json.load(f)"
   ]
  },
  {
   "cell_type": "code",
   "execution_count": 3,
   "id": "6f84b9ee-9f6d-485a-b54c-6b31c91e9a6e",
   "metadata": {
    "tags": []
   },
   "outputs": [],
   "source": [
    "maven_labels = set([lib['name'] for lib in maven_corpus])"
   ]
  },
  {
   "cell_type": "code",
   "execution_count": 4,
   "id": "59265600-d19b-403d-83f7-d3cfad91bdce",
   "metadata": {
    "tags": []
   },
   "outputs": [
    {
     "data": {
      "text/plain": [
       "1247"
      ]
     },
     "execution_count": 4,
     "metadata": {},
     "output_type": "execute_result"
    }
   ],
   "source": [
    "sum([1 for lib in maven_labels if 'org.jenkins-ci.plugins' in lib])"
   ]
  },
  {
   "cell_type": "code",
   "execution_count": null,
   "id": "133fe2a8-7c7f-40a0-bf36-699bea807caa",
   "metadata": {},
   "outputs": [],
   "source": []
  },
  {
   "cell_type": "code",
   "execution_count": null,
   "id": "70513485-8f6c-4a10-887d-cfcc9a34bea2",
   "metadata": {},
   "outputs": [],
   "source": []
  },
  {
   "cell_type": "code",
   "execution_count": null,
   "id": "1fd1a3df-6579-492a-85f0-14cd15e156df",
   "metadata": {},
   "outputs": [],
   "source": []
  }
 ],
 "metadata": {
  "kernelspec": {
   "display_name": "Python 3 (ipykernel)",
   "language": "python",
   "name": "python3"
  },
  "language_info": {
   "codemirror_mode": {
    "name": "ipython",
    "version": 3
   },
   "file_extension": ".py",
   "mimetype": "text/x-python",
   "name": "python",
   "nbconvert_exporter": "python",
   "pygments_lexer": "ipython3",
   "version": "3.10.13"
  }
 },
 "nbformat": 4,
 "nbformat_minor": 5
}
