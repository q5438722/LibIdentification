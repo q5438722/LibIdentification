{
 "cells": [
  {
   "cell_type": "code",
   "execution_count": 1,
   "id": "2b915c58-7338-4913-9cc8-04b871cbb185",
   "metadata": {
    "tags": []
   },
   "outputs": [],
   "source": [
    "import os, sys\n",
    "import json\n",
    "import jsonlines\n",
    "import pandas as pd"
   ]
  },
  {
   "cell_type": "code",
   "execution_count": 2,
   "id": "9015488a-8a58-4e09-9d13-d456659a1f98",
   "metadata": {
    "tags": []
   },
   "outputs": [],
   "source": [
    "with open('/home/chentianyu/libminer/train.json', 'r') as f:\n",
    "    train = json.load(f)\n",
    "with open('/home/chentianyu/libminer/valid.json', 'r') as f:\n",
    "    valid = json.load(f)\n",
    "with open('/home/chentianyu/libminer/test.json', 'r') as f:\n",
    "    test = json.load(f)"
   ]
  },
  {
   "cell_type": "code",
   "execution_count": 3,
   "id": "635fbc85-f89e-4f83-9641-84fa8cbd0118",
   "metadata": {
    "tags": []
   },
   "outputs": [],
   "source": [
    "vul_train_cve = set([vuln['cve_id'] for vuln in train])\n",
    "vul_valid_cve = set([vuln['cve_id'] for vuln in valid])\n",
    "vul_test_cve = set([vuln['cve_id'] for vuln in test])\n",
    "vul_lib_cve = vul_train_cve | vul_valid_cve | vul_test_cve"
   ]
  },
  {
   "cell_type": "code",
   "execution_count": 24,
   "id": "4ef8b4e0-de17-4391-baa6-5ad5f8be0b3b",
   "metadata": {
    "tags": []
   },
   "outputs": [],
   "source": [
    "verajava = pd.read_csv('/home/chentianyu/libminer/verajava.csv')"
   ]
  },
  {
   "cell_type": "code",
   "execution_count": 25,
   "id": "ea8513f9-e779-4427-bf8b-9917ffe09cec",
   "metadata": {
    "tags": []
   },
   "outputs": [],
   "source": [
    "vul_lib_cve = set(verajava.cve_id.to_list())"
   ]
  },
  {
   "cell_type": "code",
   "execution_count": 6,
   "id": "0f6edb27-dea6-4575-9dc0-28ac2a9b5622",
   "metadata": {
    "tags": []
   },
   "outputs": [],
   "source": [
    "veracode_train = pd.read_csv('/home/chentianyu/Chronos/zero_shot_dataset/zero_shot_train_cleaned.csv')\n",
    "veracode_valid = pd.read_csv('/home/chentianyu/Chronos/zero_shot_dataset/zero_shot_val_cleaned.csv')\n",
    "veracode_test = pd.read_csv('/home/chentianyu/Chronos/zero_shot_dataset/zero_shot_test_cleaned.csv')"
   ]
  },
  {
   "cell_type": "code",
   "execution_count": null,
   "id": "4ee580f8-82ca-4324-8a5a-aeeab9a2cb40",
   "metadata": {
    "tags": []
   },
   "outputs": [],
   "source": [
    "veracode_train.matchers.to_list()"
   ]
  },
  {
   "cell_type": "code",
   "execution_count": 16,
   "id": "74e2f67d-403a-495a-85c4-3d3104133e19",
   "metadata": {
    "tags": []
   },
   "outputs": [],
   "source": [
    "train_matchers = [match for match in veracode_train.matchers.to_list() if type(match)==str]\n",
    "veracode_train_labels = set([label for match in train_matchers \\\n",
    "                             for label in match.split(' ')])\n",
    "test_matchers = [match for match in veracode_test.matchers.to_list() if type(match)==str]\n",
    "veracode_test_labels = set([label for match in test_matchers \\\n",
    "                             for label in match.split(' ')])"
   ]
  },
  {
   "cell_type": "code",
   "execution_count": null,
   "id": "eb24b098-3fae-489d-8875-1f8058f2e9ec",
   "metadata": {
    "tags": []
   },
   "outputs": [],
   "source": [
    "veracode_train"
   ]
  },
  {
   "cell_type": "code",
   "execution_count": 7,
   "id": "dfa52340-6cc4-43e0-9ad6-1f3ca217f70a",
   "metadata": {
    "tags": []
   },
   "outputs": [],
   "source": [
    "verajava_train = veracode_train[['cve_id', 'cleaned', 'matchers']]\n",
    "verajava_train = verajava_train[verajava_train.matchers.apply(lambda x: type(x) == str)]\n",
    "verajava_valid = veracode_valid[['cve_id', 'cleaned', 'matchers']]\n",
    "verajava_valid = verajava_valid[verajava_valid.matchers.apply(lambda x: type(x) == str)]\n",
    "verajava_test = veracode_test[['cve_id', 'cleaned', 'matchers']]\n",
    "verajava_test = verajava_test[verajava_test.matchers.apply(lambda x: type(x) == str)]"
   ]
  },
  {
   "cell_type": "code",
   "execution_count": 9,
   "id": "a167daf3-fc25-40c9-9dcf-f8e3701e6ee3",
   "metadata": {
    "tags": []
   },
   "outputs": [
    {
     "data": {
      "text/plain": [
       "(240, 4, 319)"
      ]
     },
     "execution_count": 9,
     "metadata": {},
     "output_type": "execute_result"
    }
   ],
   "source": [
    "len(verajava_train[verajava_train.cve_id.isin(vul_lib_cve)]),\\\n",
    "len(verajava_valid[verajava_valid.cve_id.isin(vul_lib_cve)]),\\\n",
    "len(verajava_test[verajava_test.cve_id.isin(vul_lib_cve)])"
   ]
  },
  {
   "cell_type": "code",
   "execution_count": null,
   "id": "c783d035-ec14-4734-8200-e40d41ecff89",
   "metadata": {
    "tags": []
   },
   "outputs": [],
   "source": [
    "len(veracode)"
   ]
  },
  {
   "cell_type": "code",
   "execution_count": null,
   "id": "a8657b0e-a83a-4be0-b2ae-eca9b5dc16c6",
   "metadata": {
    "tags": []
   },
   "outputs": [],
   "source": [
    "verajava[verajava.cve_id.isin(verajava_test.cve_id.to_list())]"
   ]
  },
  {
   "cell_type": "code",
   "execution_count": 48,
   "id": "dd2764cb-ff46-40f0-882a-ef1d4b9d195b",
   "metadata": {
    "tags": []
   },
   "outputs": [],
   "source": [
    "raw_df = pd.read_csv('/home/chentianyu/Chronos/dataset/description_and_reference_data/dataset.csv')"
   ]
  },
  {
   "cell_type": "code",
   "execution_count": 58,
   "id": "ee9791ef-a4c0-4ec5-9677-da37632dd0ce",
   "metadata": {
    "tags": []
   },
   "outputs": [],
   "source": [
    "raw_raw = pd.read_csv('/home/chentianyu/Chronos/dataset/description_data/cve_labels.csv')"
   ]
  },
  {
   "cell_type": "code",
   "execution_count": 84,
   "id": "35e6ab75-e6cc-4aff-b5e0-dfe99c720b81",
   "metadata": {
    "tags": []
   },
   "outputs": [],
   "source": [
    "verajava = raw_df[raw_df.cve_id.isin(vul_lib_cve)]"
   ]
  },
  {
   "cell_type": "code",
   "execution_count": null,
   "id": "f1f0389f-af74-4672-9312-6294afefdad9",
   "metadata": {
    "tags": []
   },
   "outputs": [],
   "source": [
    "verajava"
   ]
  },
  {
   "cell_type": "code",
   "execution_count": 86,
   "id": "5c98a5ef-1a06-4698-9571-e32dc3446e21",
   "metadata": {
    "tags": []
   },
   "outputs": [],
   "source": [
    "new_train, new_test = [], []\n",
    "for (i, vuln), (j, v1) in zip(raw_df.iterrows(), raw_raw.iterrows()):\n",
    "    if vuln['cve_id'] not in (vera_test | vera_train):\n",
    "        continue\n",
    "    # if type(vuln['matchers']) != str:\n",
    "    #     print(eval(v1['labels']))\n",
    "    #     break\n",
    "    if type(vuln['cleaned']) != str:\n",
    "        vuln['cleaned'] = ' '\n",
    "    if vuln['cve_id'] in vera_train:\n",
    "        new_train.append({'cve_id': vuln['cve_id'], 'desc': vuln['cleaned']\\\n",
    "                          , 'labels': eval(v1['labels'])})\n",
    "    if vuln['cve_id'] in vera_test:\n",
    "        new_test.append({'cve_id': vuln['cve_id'], 'desc': vuln['cleaned']\\\n",
    "                          , 'labels': eval(v1['labels'])})"
   ]
  },
  {
   "cell_type": "code",
   "execution_count": 87,
   "id": "0f57e35c-da4a-47bd-902a-c5301be4860a",
   "metadata": {
    "tags": []
   },
   "outputs": [],
   "source": [
    "with open('vera_train.json', 'w') as f:\n",
    "    json.dump(new_train, f)\n",
    "with open('vera_test.json', 'w') as f:\n",
    "    json.dump(new_test, f)"
   ]
  },
  {
   "cell_type": "code",
   "execution_count": 77,
   "id": "7358660f-92bc-4c85-9602-cd982eebbe0d",
   "metadata": {
    "tags": []
   },
   "outputs": [
    {
     "data": {
      "text/plain": [
       "(629, 319)"
      ]
     },
     "execution_count": 77,
     "metadata": {},
     "output_type": "execute_result"
    }
   ],
   "source": [
    "len(new_train), len(new_test)"
   ]
  },
  {
   "cell_type": "code",
   "execution_count": 78,
   "id": "03b90d59-4095-4624-97ce-62f25ac4f428",
   "metadata": {
    "tags": []
   },
   "outputs": [
    {
     "data": {
      "text/plain": [
       "{'cve_id': 'CVE-2019-9516',\n",
       " 'desc': ' apple swiftnio ubuntu linux fedora linux apache traffic server synology vs960hd firmware synology skynas diskstation manager http implementations service attacker stream headers name header value huffman headers implementations memory headers session memory http lists security announce msg00032 html http lists security announce msg00035 html https support f5 com csp article k02591030 https lists archives package announce lists message xhtku7yq5eep2xnsav4m4vj7qcbojmod access errata rhsa http lists security announce msg00031 html http seclists fulldisclosure aug security netapp com https lists archives package announce lists message tazzevtcn2b4wt6aibj7xgyjmbtorju5 access errata rhsa https kb cert org vuls id https www synology security synology security netapp com https lists archives package announce lists message bp556leg3wenhzi5taq6zebftjb4e2is https seclists aug https lists archives package announce lists message cmnfx5mnyrwwimo4btkyqcgudmho3axp https github com security bulletins master advisories party md https com https seclists aug https www org security dsa https access errata rhsa https com index page content id sb10296 https lists archives package announce lists message popaec4fwl4uu4ldegpy5npalu24ffqd https lists archives package announce lists message access errata rhsa',\n",
       " 'labels': ['rh-nginx112-nginx', 'rh-nginx110-nginx', 'rh-nginx114-nginx']}"
      ]
     },
     "execution_count": 78,
     "metadata": {},
     "output_type": "execute_result"
    }
   ],
   "source": [
    "new_train[-1]"
   ]
  },
  {
   "cell_type": "code",
   "execution_count": null,
   "id": "0cbcade9-69be-4487-8615-cfb7f654c053",
   "metadata": {
    "tags": []
   },
   "outputs": [],
   "source": [
    "raw_df"
   ]
  },
  {
   "cell_type": "code",
   "execution_count": null,
   "id": "56541f5c-b974-4951-9c65-8ec40e0c7934",
   "metadata": {
    "tags": []
   },
   "outputs": [],
   "source": [
    "len(verajava[verajava.cve_id.isin(veracode_train.cve_id.to_list())]),\\\n",
    "len(verajava[verajava.cve_id.isin(veracode_valid.cve_id.to_list())]),\\\n",
    "len(verajava[verajava.cve_id.isin(veracode_test.cve_id.to_list())])"
   ]
  },
  {
   "cell_type": "code",
   "execution_count": 118,
   "id": "b20296fa-2476-41c9-9f85-0b0a9c8fcc8f",
   "metadata": {
    "tags": []
   },
   "outputs": [],
   "source": [
    "tmp_list = list(vul_lib_cve)\n",
    "tmp_list.sort()\n"
   ]
  },
  {
   "cell_type": "code",
   "execution_count": 119,
   "id": "ba641d10-1147-4d6b-9b3e-c6f4705ea2ec",
   "metadata": {
    "tags": []
   },
   "outputs": [
    {
     "data": {
      "text/plain": [
       "2249.4610778443116"
      ]
     },
     "execution_count": 119,
     "metadata": {},
     "output_type": "execute_result"
    }
   ],
   "source": []
  },
  {
   "cell_type": "code",
   "execution_count": 99,
   "id": "87eedca1-ad40-47f0-879e-12732c40d7c4",
   "metadata": {
    "tags": []
   },
   "outputs": [
    {
     "data": {
      "text/plain": [
       "697"
      ]
     },
     "execution_count": 99,
     "metadata": {},
     "output_type": "execute_result"
    }
   ],
   "source": [
    "len(verajava.labels.value_counts())"
   ]
  },
  {
   "cell_type": "code",
   "execution_count": 21,
   "id": "8c582c18-fbbe-4b3b-9cdd-3237dc6fbfb2",
   "metadata": {
    "tags": []
   },
   "outputs": [
    {
     "data": {
      "text/plain": [
       "(2020, 2093, 676)"
      ]
     },
     "execution_count": 21,
     "metadata": {},
     "output_type": "execute_result"
    }
   ],
   "source": [
    "len(veracode_test_labels), len(veracode_train_labels), len(veracode_test_labels - veracode_train_labels)"
   ]
  }
 ],
 "metadata": {
  "kernelspec": {
   "display_name": "Python 3 (ipykernel)",
   "language": "python",
   "name": "python3"
  },
  "language_info": {
   "codemirror_mode": {
    "name": "ipython",
    "version": 3
   },
   "file_extension": ".py",
   "mimetype": "text/x-python",
   "name": "python",
   "nbconvert_exporter": "python",
   "pygments_lexer": "ipython3",
   "version": "3.10.13"
  }
 },
 "nbformat": 4,
 "nbformat_minor": 5
}
