{
 "cells": [
  {
   "cell_type": "code",
   "execution_count": 1,
   "id": "6a27585d-4fa6-40e9-b82d-ef343d092491",
   "metadata": {
    "tags": []
   },
   "outputs": [],
   "source": [
    "import os, sys\n",
    "import json\n",
    "import pandas as pd"
   ]
  },
  {
   "cell_type": "code",
   "execution_count": 2,
   "id": "0c2f8b03-aa00-4190-b5ac-23368933e270",
   "metadata": {
    "tags": []
   },
   "outputs": [],
   "source": [
    "from clean_text import cleaned_text"
   ]
  },
  {
   "cell_type": "code",
   "execution_count": 3,
   "id": "74fb5946-b70c-444e-ae28-16a24befcbd4",
   "metadata": {
    "tags": []
   },
   "outputs": [],
   "source": [
    "with open('/home/chentianyu/libminer/train.json', 'r') as f:\n",
    "    train = json.load(f)\n",
    "with open('/home/chentianyu/libminer/valid.json', 'r') as f:\n",
    "    valid = json.load(f)\n",
    "with open('/home/chentianyu/libminer/test.json', 'r') as f:\n",
    "    test = json.load(f)"
   ]
  },
  {
   "cell_type": "code",
   "execution_count": 8,
   "id": "e42d2edd-cbf2-420c-a8fb-26727eae1a84",
   "metadata": {
    "tags": []
   },
   "outputs": [],
   "source": [
    "target_dir = '/home/chentianyu/icpc_xml/LightXML/LightXML/data/vul_lib/'"
   ]
  },
  {
   "cell_type": "code",
   "execution_count": 17,
   "id": "c5894c96-afdc-4a2a-a52d-1434f4218e8e",
   "metadata": {
    "tags": []
   },
   "outputs": [],
   "source": [
    "train_descs = [' '.join(cleaned_text(vuln['desc'])) for vuln in train if len(vuln['labels']) > 0]\n",
    "train_labels = [' '.join(vuln['labels']) for vuln in train if len(vuln['labels']) > 0]"
   ]
  },
  {
   "cell_type": "code",
   "execution_count": 18,
   "id": "11383741-f438-48bd-a4ae-3b460b30428b",
   "metadata": {
    "tags": []
   },
   "outputs": [],
   "source": [
    "with open(os.path.join(target_dir, 'train_texts.txt'), 'w') as f:\n",
    "    f.write('\\n'.join(train_descs))\n",
    "with open(os.path.join(target_dir, 'train_labels.txt'), 'w') as f:\n",
    "    f.write('\\n'.join(train_labels))"
   ]
  },
  {
   "cell_type": "code",
   "execution_count": 9,
   "id": "5642f328-4e02-4d39-b630-c41f900092eb",
   "metadata": {
    "tags": []
   },
   "outputs": [],
   "source": [
    "valid_descs = [' '.join(cleaned_text(vuln['desc'])) for vuln in valid if len(vuln['labels']) > 0]\n",
    "valid_labels = [' '.join(vuln['labels']) for vuln in valid if len(vuln['labels']) > 0]"
   ]
  },
  {
   "cell_type": "code",
   "execution_count": 11,
   "id": "54120895-3799-42a6-8ff0-3a91ba364ad6",
   "metadata": {
    "tags": []
   },
   "outputs": [],
   "source": [
    "with open(os.path.join(target_dir, 'valid_texts.txt'), 'w') as f:\n",
    "    f.write('\\n'.join(valid_descs))\n",
    "with open(os.path.join(target_dir, 'valid_labels.txt'), 'w') as f:\n",
    "    f.write('\\n'.join(valid_labels))"
   ]
  },
  {
   "cell_type": "code",
   "execution_count": 18,
   "id": "efe5fc34-6a5f-436f-834e-45129820afc6",
   "metadata": {
    "tags": []
   },
   "outputs": [],
   "source": [
    "test_descs = [' '.join(cleaned_text(vuln['desc'])) for vuln in test if len(vuln['labels']) > 0]\n",
    "test_labels = [' '.join(vuln['labels']) for vuln in test if len(vuln['labels']) > 0]"
   ]
  },
  {
   "cell_type": "code",
   "execution_count": 20,
   "id": "b3086308-46aa-4baf-a1c7-1e29e8f75986",
   "metadata": {
    "tags": []
   },
   "outputs": [],
   "source": [
    "with open(os.path.join(target_dir, 'test_texts.txt'), 'w') as f:\n",
    "    f.write('\\n'.join(test_descs))\n",
    "with open(os.path.join(target_dir, 'test_labels.txt'), 'w') as f:\n",
    "    f.write('\\n'.join(test_labels))"
   ]
  },
  {
   "cell_type": "code",
   "execution_count": null,
   "id": "9dcfd8e6-edf9-40af-a3cf-1da817cc43d5",
   "metadata": {
    "tags": []
   },
   "outputs": [],
   "source": [
    "cleaned_text(test[0]['desc'])"
   ]
  },
  {
   "cell_type": "code",
   "execution_count": 4,
   "id": "e5ca0afa-707c-435c-9e07-a20efda83c0d",
   "metadata": {
    "tags": []
   },
   "outputs": [],
   "source": [
    "with open('/home/chentianyu/libminer/maven_corpus_new.json', 'r') as f:\n",
    "    maven_corpus = json.load(f)"
   ]
  },
  {
   "cell_type": "code",
   "execution_count": 7,
   "id": "eeccd463-f6ba-437e-b03d-42d358c7cf86",
   "metadata": {
    "tags": []
   },
   "outputs": [
    {
     "data": {
      "text/plain": [
       "{'name': 'altrmi:altrmi-server-interfaces',\n",
       " 'desc': 'Altrmi Server Interfaces',\n",
       " 'name_tokens': ['altrmi', 'altrmi', 'server', 'interfaces'],\n",
       " 'desc_tokens': ['altrmi', 'server', 'interfaces']}"
      ]
     },
     "execution_count": 7,
     "metadata": {},
     "output_type": "execute_result"
    }
   ],
   "source": [
    "maven_corpus[0]"
   ]
  },
  {
   "cell_type": "code",
   "execution_count": 15,
   "id": "ad0963cc-118c-48e8-bdd9-9b2d941cfda4",
   "metadata": {
    "tags": []
   },
   "outputs": [
    {
     "name": "stdout",
     "output_type": "stream",
     "text": [
      "Collecting jsonlines\n",
      "  Downloading jsonlines-4.0.0-py3-none-any.whl.metadata (1.6 kB)\n",
      "Requirement already satisfied: attrs>=19.2.0 in /home/chentianyu/miniconda3/envs/tianyu/lib/python3.10/site-packages (from jsonlines) (23.1.0)\n",
      "Downloading jsonlines-4.0.0-py3-none-any.whl (8.7 kB)\n",
      "Installing collected packages: jsonlines\n",
      "Successfully installed jsonlines-4.0.0\n",
      "Note: you may need to restart the kernel to use updated packages.\n"
     ]
    }
   ],
   "source": [
    "pip install jsonlines"
   ]
  },
  {
   "cell_type": "code",
   "execution_count": 16,
   "id": "a6ee521d-9d27-450f-a699-f47ed4a12f6c",
   "metadata": {
    "tags": []
   },
   "outputs": [],
   "source": [
    "import jsonlines"
   ]
  },
  {
   "cell_type": "code",
   "execution_count": 14,
   "id": "cc619c76-f217-41ba-a8a6-2c20a8b5c66f",
   "metadata": {
    "tags": []
   },
   "outputs": [],
   "source": [
    "fastxml_dir = '/home/chentianyu/icpc_xml/FastXML/dataset/'"
   ]
  },
  {
   "cell_type": "code",
   "execution_count": 23,
   "id": "c19d7f31-25fe-4f84-a598-24fb172db9e6",
   "metadata": {
    "tags": []
   },
   "outputs": [],
   "source": [
    "with jsonlines.open(os.path.join(fastxml_dir, 'vul_lib_test.json'), 'w') as writer:\n",
    "    for vuln in test:\n",
    "        if len(vuln['labels']) == 0:\n",
    "            continue\n",
    "        writer.write({\"title\": ' '.join(cleaned_text(vuln['desc'])), \"tags\": vuln['labels']})"
   ]
  },
  {
   "cell_type": "code",
   "execution_count": 24,
   "id": "b9ddbe3b-e9c7-4efa-94c4-8458677014d3",
   "metadata": {
    "tags": []
   },
   "outputs": [],
   "source": [
    "with jsonlines.open(os.path.join(fastxml_dir, 'vul_lib_train.json'), 'w') as writer:\n",
    "    for vuln in train:\n",
    "        if len(vuln['labels']) == 0:\n",
    "            continue\n",
    "        writer.write({\"title\": ' '.join(cleaned_text(vuln['desc'])), \"tags\": vuln['labels']})"
   ]
  }
 ],
 "metadata": {
  "kernelspec": {
   "display_name": "Python 3 (ipykernel)",
   "language": "python",
   "name": "python3"
  },
  "language_info": {
   "codemirror_mode": {
    "name": "ipython",
    "version": 3
   },
   "file_extension": ".py",
   "mimetype": "text/x-python",
   "name": "python",
   "nbconvert_exporter": "python",
   "pygments_lexer": "ipython3",
   "version": "3.10.13"
  }
 },
 "nbformat": 4,
 "nbformat_minor": 5
}
