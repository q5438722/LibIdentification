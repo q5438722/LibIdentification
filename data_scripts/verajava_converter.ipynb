{
 "cells": [
  {
   "cell_type": "code",
   "execution_count": 8,
   "id": "0e14258b-40ce-41c6-a38e-3bfecce0f9a3",
   "metadata": {
    "tags": []
   },
   "outputs": [],
   "source": [
    "import os, sys\n",
    "import json\n",
    "import pandas as pd\n",
    "from clean_text import cleaned_text"
   ]
  },
  {
   "cell_type": "code",
   "execution_count": 9,
   "id": "378151ce-1a71-4df9-bef8-7d02c65c6d50",
   "metadata": {
    "tags": []
   },
   "outputs": [],
   "source": [
    "with open('/home/chentianyu/libminer/vera_train.json', 'r') as f:\n",
    "    vera_train = json.load(f)\n",
    "with open('/home/chentianyu/libminer/vera_test.json', 'r') as f:\n",
    "    vera_test = json.load(f)"
   ]
  },
  {
   "cell_type": "code",
   "execution_count": 10,
   "id": "0795ce97-468d-487b-8f32-fb3ddcc72457",
   "metadata": {
    "tags": []
   },
   "outputs": [],
   "source": [
    "with open('/home/chentianyu/libminer/train.json', 'r') as f:\n",
    "    train = json.load(f)\n",
    "with open('/home/chentianyu/libminer/valid.json', 'r') as f:\n",
    "    valid = json.load(f)\n",
    "with open('/home/chentianyu/libminer/test.json', 'r') as f:\n",
    "    test = json.load(f)"
   ]
  },
  {
   "cell_type": "code",
   "execution_count": 11,
   "id": "c35f1962-685a-4c98-85fd-d7ea447b7377",
   "metadata": {
    "tags": []
   },
   "outputs": [],
   "source": [
    "label_mapping = {vuln['cve_id']:vuln for vuln in train+valid+test}"
   ]
  },
  {
   "cell_type": "code",
   "execution_count": 12,
   "id": "f8f7d230-c93b-413f-9d13-94edccdc006b",
   "metadata": {
    "tags": []
   },
   "outputs": [],
   "source": [
    "for vuln in vera_train:\n",
    "    vuln['desc'] = label_mapping[vuln['cve_id']]['desc']\n",
    "    vuln['labels'] = label_mapping[vuln['cve_id']]['labels']"
   ]
  },
  {
   "cell_type": "code",
   "execution_count": 13,
   "id": "9e0e9238-1281-4dd7-8389-8167ccba2049",
   "metadata": {
    "tags": []
   },
   "outputs": [],
   "source": [
    "for vuln in vera_test:\n",
    "    vuln['desc'] = label_mapping[vuln['cve_id']]['desc']\n",
    "    vuln['labels'] = label_mapping[vuln['cve_id']]['labels']"
   ]
  },
  {
   "cell_type": "code",
   "execution_count": 15,
   "id": "85cdbece-680e-42a3-8a1f-d53b683c5c7b",
   "metadata": {
    "tags": []
   },
   "outputs": [],
   "source": [
    "with open('/home/chentianyu/libminer/vera_train_new.json', 'w') as f:\n",
    "    json.dump(vera_train, f)\n",
    "with open('/home/chentianyu/libminer/vera_test_new.json', 'w') as f:\n",
    "    json.dump(vera_test, f)"
   ]
  },
  {
   "cell_type": "code",
   "execution_count": null,
   "id": "897ee2f2-1c8f-41e0-8fc2-575bf31305d2",
   "metadata": {},
   "outputs": [],
   "source": []
  },
  {
   "cell_type": "code",
   "execution_count": null,
   "id": "20aaacde-0dea-4fe1-b37d-403b2760ccad",
   "metadata": {},
   "outputs": [],
   "source": []
  },
  {
   "cell_type": "code",
   "execution_count": 17,
   "id": "60360bb7-c8ab-41af-ad0c-fc938493fc17",
   "metadata": {
    "tags": []
   },
   "outputs": [],
   "source": [
    "with open('/home/chentianyu/libminer/vera_train_new.json', 'r') as f:\n",
    "    train = json.load(f)\n",
    "with open('/home/chentianyu/libminer/vera_test_new.json', 'r') as f:\n",
    "    test = json.load(f)"
   ]
  },
  {
   "cell_type": "code",
   "execution_count": 18,
   "id": "107d2468-bb7d-4b95-908f-cde1df78e89a",
   "metadata": {
    "tags": []
   },
   "outputs": [],
   "source": [
    "target_dir = '/home/chentianyu/icpc_xml/LightXML/LightXML/data/cve_java/'"
   ]
  },
  {
   "cell_type": "code",
   "execution_count": null,
   "id": "ba3ce3b0-51ff-4f75-8491-1a65a4562bca",
   "metadata": {
    "tags": []
   },
   "outputs": [],
   "source": [
    "train[0]"
   ]
  },
  {
   "cell_type": "code",
   "execution_count": 20,
   "id": "293f1252-75d7-42da-8bdc-f5437143a348",
   "metadata": {
    "tags": []
   },
   "outputs": [],
   "source": [
    "train_descs = [' '.join(cleaned_text(vuln['desc'])) for vuln in train if len(vuln['labels']) > 0]\n",
    "train_labels = [' '.join(vuln['labels']) for vuln in train if len(vuln['labels']) > 0]"
   ]
  },
  {
   "cell_type": "code",
   "execution_count": 21,
   "id": "85d1a53b-f76d-4d34-a0f8-93b53f52d659",
   "metadata": {
    "tags": []
   },
   "outputs": [],
   "source": [
    "with open(os.path.join(target_dir, 'train_texts.txt'), 'w') as f:\n",
    "    f.write('\\n'.join(train_descs))\n",
    "with open(os.path.join(target_dir, 'train_labels.txt'), 'w') as f:\n",
    "    f.write('\\n'.join(train_labels))"
   ]
  },
  {
   "cell_type": "code",
   "execution_count": 22,
   "id": "0f9e278b-90d8-4e3e-beb0-0e31893f90fe",
   "metadata": {
    "tags": []
   },
   "outputs": [],
   "source": [
    "test_descs = [' '.join(cleaned_text(vuln['desc'])) for vuln in test if len(vuln['labels']) > 0]\n",
    "test_labels = [' '.join(vuln['labels']) for vuln in test if len(vuln['labels']) > 0]"
   ]
  },
  {
   "cell_type": "code",
   "execution_count": 23,
   "id": "8fd47c4d-896b-4bdd-9d2e-9f8b2f661d07",
   "metadata": {
    "tags": []
   },
   "outputs": [],
   "source": [
    "with open(os.path.join(target_dir, 'test_texts.txt'), 'w') as f:\n",
    "    f.write('\\n'.join(test_descs))\n",
    "with open(os.path.join(target_dir, 'test_labels.txt'), 'w') as f:\n",
    "    f.write('\\n'.join(test_labels))"
   ]
  },
  {
   "cell_type": "code",
   "execution_count": 28,
   "id": "23af99a8-2fbb-4528-8aa3-5a3594267280",
   "metadata": {},
   "outputs": [],
   "source": [
    "with open(os.path.join(target_dir, 'valid_texts.txt'), 'w') as f:\n",
    "    f.write('\\n'.join(test_descs))\n",
    "with open(os.path.join(target_dir, 'valid_labels.txt'), 'w') as f:\n",
    "    f.write('\\n'.join(test_labels))"
   ]
  },
  {
   "cell_type": "code",
   "execution_count": null,
   "id": "a02f8f9d-bddb-4dee-a0c5-3484d4e233c5",
   "metadata": {},
   "outputs": [],
   "source": []
  },
  {
   "cell_type": "code",
   "execution_count": null,
   "id": "470f3e57-a268-41e7-a083-54074d7952c2",
   "metadata": {},
   "outputs": [],
   "source": []
  },
  {
   "cell_type": "code",
   "execution_count": 24,
   "id": "d3f128cb-368b-4126-ab23-b1a6067b2eee",
   "metadata": {
    "tags": []
   },
   "outputs": [],
   "source": [
    "import jsonlines"
   ]
  },
  {
   "cell_type": "code",
   "execution_count": 25,
   "id": "49afc9ad-4468-4bfe-a696-c40aa9fda949",
   "metadata": {
    "tags": []
   },
   "outputs": [],
   "source": [
    "fastxml_dir = '/home/chentianyu/icpc_xml/FastXML/dataset/'"
   ]
  },
  {
   "cell_type": "code",
   "execution_count": 26,
   "id": "d46cea29-b465-4b30-a36e-9a7935b40300",
   "metadata": {
    "tags": []
   },
   "outputs": [],
   "source": [
    "with jsonlines.open(os.path.join(fastxml_dir, 'cve_java_test.json'), 'w') as writer:\n",
    "    for vuln in test:\n",
    "        if len(vuln['labels']) == 0:\n",
    "            continue\n",
    "        writer.write({\"title\": ' '.join(cleaned_text(vuln['desc'])), \"tags\": vuln['labels']})"
   ]
  },
  {
   "cell_type": "code",
   "execution_count": 27,
   "id": "1fcc0343-30b7-4580-9082-0d96809b82b1",
   "metadata": {
    "tags": []
   },
   "outputs": [],
   "source": [
    "with jsonlines.open(os.path.join(fastxml_dir, 'cve_java_train.json'), 'w') as writer:\n",
    "    for vuln in train:\n",
    "        if len(vuln['labels']) == 0:\n",
    "            continue\n",
    "        writer.write({\"title\": ' '.join(cleaned_text(vuln['desc'])), \"tags\": vuln['labels']})"
   ]
  }
 ],
 "metadata": {
  "kernelspec": {
   "display_name": "Python 3 (ipykernel)",
   "language": "python",
   "name": "python3"
  },
  "language_info": {
   "codemirror_mode": {
    "name": "ipython",
    "version": 3
   },
   "file_extension": ".py",
   "mimetype": "text/x-python",
   "name": "python",
   "nbconvert_exporter": "python",
   "pygments_lexer": "ipython3",
   "version": "3.10.13"
  }
 },
 "nbformat": 4,
 "nbformat_minor": 5
}
