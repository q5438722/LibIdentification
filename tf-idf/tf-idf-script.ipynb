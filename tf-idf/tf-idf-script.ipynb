{
 "cells": [
  {
   "cell_type": "code",
   "execution_count": 1,
   "id": "3eaad109-617b-469c-ace5-93d0059b9796",
   "metadata": {
    "tags": []
   },
   "outputs": [],
   "source": [
    "import os, sys\n",
    "import json\n",
    "import re\n",
    "import time\n",
    "import pandas as pd\n",
    "from multiprocessing import Pool\n",
    "from tqdm import tqdm\n",
    "\n",
    "import tfidf_searching\n",
    "from clean_text import cleaned_text"
   ]
  },
  {
   "cell_type": "code",
   "execution_count": 3,
   "id": "c6dd5fe3-904f-4d1a-95b0-8340ad4ee0b1",
   "metadata": {
    "tags": []
   },
   "outputs": [],
   "source": [
    "with open('/home/chentianyu/dependency/dataset/train_reduced.json', 'r') as f:\n",
    "    trains = json.load(f)\n",
    "with open('/home/chentianyu/dependency/dataset/test_reduced.json', 'r') as f:\n",
    "    tests = json.load(f)"
   ]
  },
  {
   "cell_type": "code",
   "execution_count": 4,
   "id": "1827b2f9-65b2-465c-bcfd-33f1ecbc72e2",
   "metadata": {
    "tags": []
   },
   "outputs": [
    {
     "name": "stderr",
     "output_type": "stream",
     "text": [
      "/tmp/ipykernel_3381252/2234550152.py:8: DtypeWarning: Columns (1,3,4,5,6,8,9,10,11,14,15,16,17,18,21,25,27,28,29) have mixed types. Specify dtype option on import or set low_memory=False.\n",
      "  pros = pd.read_csv(pros_path, delimiter='\\t')\n"
     ]
    }
   ],
   "source": [
    "oskg_folder = '/home/chentianyu/dependency/oskg/'\n",
    "node_path = os.path.join(oskg_folder, 'oskg_node2os_20231120163318.csv')\n",
    "edge_path = os.path.join(oskg_folder, 'oskg_edges_20231120163318.csv')\n",
    "pros_path = os.path.join(oskg_folder, 'oskg_pros_20231120163318.csv')\n",
    "\n",
    "nodes = pd.read_csv(node_path, delimiter='\\t', header=None)\n",
    "edges = pd.read_csv(edge_path, delimiter='\\t', header=None)\n",
    "pros = pd.read_csv(pros_path, delimiter='\\t')"
   ]
  },
  {
   "cell_type": "code",
   "execution_count": 144,
   "id": "4e45def7-4aa6-4db3-b846-7e8d54ca15ce",
   "metadata": {
    "tags": []
   },
   "outputs": [],
   "source": [
    "pros = pros[pros.apply(lambda x: type(x['name']) == str, axis=1)]\n",
    "pros_names = set([name.lower() for name in pros.name.to_list() if type(name) == str])"
   ]
  },
  {
   "cell_type": "code",
   "execution_count": 129,
   "id": "9f40fb2d-e74d-4aae-9548-672313e87675",
   "metadata": {
    "tags": []
   },
   "outputs": [],
   "source": [
    "def get_c_artifact(lib):\n",
    "    complete_name = ':'.join(lib.split(':')[1:])\n",
    "    artifact = complete_name.split('/')[-1]\n",
    "    return artifact.lower()"
   ]
  },
  {
   "cell_type": "code",
   "execution_count": 33,
   "id": "ab0f3f30-0ee9-4b5e-a0f5-c03cfaea0535",
   "metadata": {
    "tags": []
   },
   "outputs": [
    {
     "data": {
      "text/plain": [
       "(2062, 230)"
      ]
     },
     "execution_count": 33,
     "metadata": {},
     "output_type": "execute_result"
    }
   ],
   "source": [
    "len(trains), len(tests)"
   ]
  },
  {
   "cell_type": "code",
   "execution_count": 130,
   "id": "bd50f48a-d92b-443d-80f7-84da1bf48505",
   "metadata": {
    "tags": []
   },
   "outputs": [],
   "source": [
    "vulns = trains + tests\n",
    "vuln_labels = [get_c_artifact(vuln['label']) for vuln in vulns]"
   ]
  },
  {
   "cell_type": "code",
   "execution_count": 145,
   "id": "4c6561d5-f68e-4424-89e1-d67f639cb790",
   "metadata": {
    "tags": []
   },
   "outputs": [
    {
     "data": {
      "text/plain": [
       "(1302, 142, 2292)"
      ]
     },
     "execution_count": 145,
     "metadata": {},
     "output_type": "execute_result"
    }
   ],
   "source": [
    "sum([lib in pros_names for lib in vuln_labels[:-230]]),\\\n",
    "sum([lib in pros_names for lib in vuln_labels[-230:]]), len(vulns)"
   ]
  },
  {
   "cell_type": "code",
   "execution_count": 131,
   "id": "e893a2ef-2ff8-4312-b65a-06dd4a945ccd",
   "metadata": {
    "tags": []
   },
   "outputs": [
    {
     "data": {
      "text/plain": [
       "Index(['index_id', 'type', 'pkgKey', 'pkgId', 'name', 'arch', 'version',\n",
       "       'epoch', 'release', 'summary', 'description', 'url', 'time_file',\n",
       "       'time_build', 'rpm_license', 'rpm_vendor', 'rpm_group', 'rpm_buildhost',\n",
       "       'rpm_sourcerpm', 'rpm_header_start', 'rpm_header_end', 'rpm_packager',\n",
       "       'size_package', 'size_installed', 'size_archive', 'location_href',\n",
       "       'location_base', 'checksum_type', 'src_name', 'src_version'],\n",
       "      dtype='object')"
      ]
     },
     "execution_count": 131,
     "metadata": {},
     "output_type": "execute_result"
    }
   ],
   "source": [
    "pros.columns"
   ]
  },
  {
   "cell_type": "code",
   "execution_count": 123,
   "id": "a6b5f494-8b62-43a8-a749-bfc537d54ad8",
   "metadata": {
    "tags": []
   },
   "outputs": [
    {
     "name": "stderr",
     "output_type": "stream",
     "text": [
      "  1%|▏         | 30/2292 [21:21<26:50:03, 42.71s/it]\n"
     ]
    }
   ],
   "source": [
    "name_weight = 4\n",
    "pros_corpus = pros.drop_duplicates('name')[['name', 'summary']]\n",
    "pros_corpus.columns = ['object', 'token']\n",
    "pros_corpus.object = pros_corpus.object.apply(lambda x: x.lower())\n",
    "pros_corpus.token = pros_corpus.token.apply(lambda x: x if type(x) == str else ' ')\n",
    "pros_mapping = pros_corpus.set_index('object').to_dict()\n",
    "pros_corpus.token = pros_corpus.apply(\\\n",
    "                    lambda x: f\"{x['object'] * name_weight} {x['token']}\", axis=1)\n",
    "\n",
    "pros_corpus.token = pros_corpus.token.apply(lambda x: cleaned_text(x))\n",
    "pros_corpus.token = pros_corpus.token.apply(lambda x: ' '.join(x))"
   ]
  },
  {
   "cell_type": "code",
   "execution_count": 153,
   "id": "6696d1cb-c560-49ec-82ce-4ca0e38cc04c",
   "metadata": {
    "tags": []
   },
   "outputs": [],
   "source": [
    "def recall(vuln, search_result, k=128):\n",
    "    artifact = get_c_artifact(vuln['raw_label'])\n",
    "    return artifact in search_result[:k]"
   ]
  },
  {
   "cell_type": "code",
   "execution_count": 93,
   "id": "5a0f1ab3-bb14-4dbc-8969-eae7c3299b63",
   "metadata": {
    "tags": []
   },
   "outputs": [],
   "source": [
    "search_engine = tfidf_searching.TfidfSearching(pros_corpus, 512, 2)"
   ]
  },
  {
   "cell_type": "code",
   "execution_count": 117,
   "id": "2235aa91-8e36-43e2-8417-2481805cf9ab",
   "metadata": {
    "tags": []
   },
   "outputs": [],
   "source": [
    "def fun(vuln):\n",
    "    search_engine = tfidf_searching.TfidfSearching(pros_corpus, 1024, 2)\n",
    "    return search_engine.search_topk_objects(cleaned_text(vuln['desc']), [])"
   ]
  },
  {
   "cell_type": "code",
   "execution_count": null,
   "id": "0cb49424-08c7-44da-a25c-c19e6872fba9",
   "metadata": {
    "tags": []
   },
   "outputs": [],
   "source": [
    "with Pool(processes=64) as pool:\n",
    "    tf_idf_res = list(tqdm(pool.imap(fun, vulns)))"
   ]
  },
  {
   "cell_type": "code",
   "execution_count": 154,
   "id": "098e33c4-7466-4f4b-8e7c-7c41a6329671",
   "metadata": {
    "tags": []
   },
   "outputs": [
    {
     "name": "stdout",
     "output_type": "stream",
     "text": [
      "k=128: 399 1444\n",
      "k=256: 482 1444\n",
      "k=512: 588 1444\n",
      "k=1024: 686 1444\n"
     ]
    }
   ],
   "source": [
    "for k in [128, 256, 512, 1024]:\n",
    "    recalls = [recall(vuln, res, k) for vuln, res in zip(vulns, tf_idf_res)\\\n",
    "               if get_c_artifact(vuln['raw_label']) in pros_names]\n",
    "    print(f'k={k}:', sum(recalls), len(recalls))"
   ]
  },
  {
   "cell_type": "code",
   "execution_count": 135,
   "id": "0fa3278d-8038-4bec-8104-2485013fc6cb",
   "metadata": {
    "tags": []
   },
   "outputs": [],
   "source": [
    "for vuln, res in zip(vulns, tf_idf_res):\n",
    "    vuln['top_k'] = [{'lib_name': lib, 'website_description':\\\n",
    "                      pros_mapping['token'][lib]} for lib in res]\n",
    "    vuln['raw_label'] = vuln['label']\n",
    "    vuln['labels'] = get_c_artifact(vuln['label'])\n",
    "    del vuln['label']"
   ]
  },
  {
   "cell_type": "code",
   "execution_count": 148,
   "id": "c0f1069b-3819-4d0c-8f8c-b90bf16a1350",
   "metadata": {
    "tags": []
   },
   "outputs": [],
   "source": [
    "for idx, vuln in enumerate(vulns):\n",
    "    vuln['labels'] = [vuln['labels']]"
   ]
  },
  {
   "cell_type": "code",
   "execution_count": 149,
   "id": "be45b8ce-e8ea-4e63-9436-16268f479e3b",
   "metadata": {
    "tags": []
   },
   "outputs": [],
   "source": [
    "output_dir = '/home/chentianyu/dependency/inputs/'\n",
    "train_path = os.path.join(output_dir, 'train.json')\n",
    "valid_path = os.path.join(output_dir, 'valid.json')\n",
    "test_path = os.path.join(output_dir, 'test.json')\n",
    "\n",
    "new_train = [vuln for vuln, label in zip(trains, vuln_labels[:-230]) if label in pros_names]\n",
    "new_test = [vuln for vuln, label in zip(tests, vuln_labels[-230:]) if label in pros_names]\n",
    "\n",
    "with open(train_path, 'w') as f:\n",
    "    json.dump(new_train, f)\n",
    "\n",
    "with open(valid_path, 'w') as f:\n",
    "    json.dump(new_test, f)\n",
    "\n",
    "with open(test_path, 'w') as f:\n",
    "    json.dump(new_test, f)"
   ]
  },
  {
   "cell_type": "code",
   "execution_count": 143,
   "id": "d32176ff-6239-43eb-96a3-fb3516f4bb27",
   "metadata": {
    "tags": []
   },
   "outputs": [
    {
     "data": {
      "text/plain": [
       "136"
      ]
     },
     "execution_count": 143,
     "metadata": {},
     "output_type": "execute_result"
    }
   ],
   "source": [
    "len(new_test)"
   ]
  },
  {
   "cell_type": "code",
   "execution_count": null,
   "id": "4ddb7765-711c-4f33-8b21-d09fb084760f",
   "metadata": {},
   "outputs": [],
   "source": []
  },
  {
   "cell_type": "code",
   "execution_count": null,
   "id": "1409b626-7518-462b-842f-002fe7925059",
   "metadata": {},
   "outputs": [],
   "source": []
  },
  {
   "cell_type": "code",
   "execution_count": null,
   "id": "40fc22f3-7a8a-48f4-a082-02e4bc65e57e",
   "metadata": {},
   "outputs": [],
   "source": []
  },
  {
   "cell_type": "code",
   "execution_count": 89,
   "id": "aa480404-c20b-4257-9835-f3f40a936cce",
   "metadata": {
    "tags": []
   },
   "outputs": [
    {
     "data": {
      "text/plain": [
       "True"
      ]
     },
     "execution_count": 89,
     "metadata": {},
     "output_type": "execute_result"
    }
   ],
   "source": [
    "'ntp' in search_engine.search_topk_objects(cleaned_text(trains[0]['desc']), [])"
   ]
  }
 ],
 "metadata": {
  "kernelspec": {
   "display_name": "Python 3 (ipykernel)",
   "language": "python",
   "name": "python3"
  },
  "language_info": {
   "codemirror_mode": {
    "name": "ipython",
    "version": 3
   },
   "file_extension": ".py",
   "mimetype": "text/x-python",
   "name": "python",
   "nbconvert_exporter": "python",
   "pygments_lexer": "ipython3",
   "version": "3.10.13"
  }
 },
 "nbformat": 4,
 "nbformat_minor": 5
}
