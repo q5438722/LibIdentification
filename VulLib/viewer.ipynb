{
 "cells": [
  {
   "cell_type": "code",
   "execution_count": 1,
   "metadata": {},
   "outputs": [],
   "source": [
    "import os, sys\n",
    "import json\n",
    "import pandas as pd"
   ]
  },
  {
   "cell_type": "code",
   "execution_count": 2,
   "metadata": {},
   "outputs": [],
   "source": [
    "with open('train.json', 'r') as f:\n",
    "    train = json.load(f)\n",
    "with open('valid.json', 'r') as f:\n",
    "    valid = json.load(f)\n",
    "with open('test.json', 'r') as f:\n",
    "    test = json.load(f)"
   ]
  },
  {
   "cell_type": "code",
   "execution_count": 5,
   "metadata": {},
   "outputs": [],
   "source": [
    "with open('maven_corpus.json', 'r') as f:\n",
    "    maven_corpus = json.load(f)"
   ]
  },
  {
   "cell_type": "code",
   "execution_count": 34,
   "metadata": {},
   "outputs": [
    {
     "data": {
      "text/plain": [
       "(168156, 310844)"
      ]
     },
     "execution_count": 34,
     "metadata": {},
     "output_type": "execute_result"
    }
   ],
   "source": [
    "sum([len(item['desc'].split(' ')) < 5 for item in maven_corpus]), len(maven_corpus)"
   ]
  },
  {
   "cell_type": "code",
   "execution_count": 7,
   "metadata": {},
   "outputs": [
    {
     "data": {
      "text/plain": [
       "[{'name': 'org.jenkins-ci.plugins:mailcommander',\n",
       "  'desc': 'This plug-in provides function that read a mail subject as a CLI Command',\n",
       "  'name_tokens': ['org', 'jenkins', 'ci', 'plugins', 'mailcommander'],\n",
       "  'desc_tokens': ['plug',\n",
       "   'provides',\n",
       "   'function',\n",
       "   'read',\n",
       "   'mail',\n",
       "   'subject',\n",
       "   'cli',\n",
       "   'command']}]"
      ]
     },
     "execution_count": 7,
     "metadata": {},
     "output_type": "execute_result"
    }
   ],
   "source": [
    "[item for item in maven_corpus if item['name'] == 'org.jenkins-ci.plugins:mailcommander']"
   ]
  },
  {
   "cell_type": "code",
   "execution_count": null,
   "metadata": {},
   "outputs": [],
   "source": [
    "[item for item in train if 'maven:org.jenkins-ci.plugins:mailer' in item['labels']]"
   ]
  },
  {
   "cell_type": "code",
   "execution_count": 23,
   "metadata": {},
   "outputs": [
    {
     "data": {
      "text/plain": [
       "[]"
      ]
     },
     "execution_count": 23,
     "metadata": {},
     "output_type": "execute_result"
    }
   ],
   "source": [
    "[item for item in train if 'maven:org.jenkins-ci.plugins:mailcommander' in item['labels']]"
   ]
  },
  {
   "cell_type": "code",
   "execution_count": 9,
   "metadata": {},
   "outputs": [],
   "source": [
    "lib_names = set(item['name'] for item in maven_corpus)"
   ]
  },
  {
   "cell_type": "code",
   "execution_count": 12,
   "metadata": {},
   "outputs": [
    {
     "data": {
      "text/plain": [
       "(1860, 620, 633)"
      ]
     },
     "execution_count": 12,
     "metadata": {},
     "output_type": "execute_result"
    }
   ],
   "source": [
    "len(train), len(valid), len(test)"
   ]
  },
  {
   "cell_type": "code",
   "execution_count": 25,
   "metadata": {},
   "outputs": [
    {
     "data": {
      "text/plain": [
       "['org.jenkins-ci.plugins:mail-watcher-plugin',\n",
       " 'org.jenkinsci.plugins:emailext-template',\n",
       " 'org.jenkins-ci.plugins:mailcommander',\n",
       " 'org.jenkins-ci.plugins:poll-mailbox-trigger-plugin',\n",
       " 'org.jenkins-ci.plugins:mailer',\n",
       " 'org.jenkins-ci.plugins:job-direct-mail',\n",
       " 'org.jenkins-ci.plugins:email-ext',\n",
       " 'org.jenkins-ci.plugins:mailmap-resolver',\n",
       " 'org.jenkins-ci.plugins:email-ext-recipients-column',\n",
       " 'io.jenkins.plugins:validating-email-parameter',\n",
       " 'org.jenkins-ci.plugins:poll-mailbox-trigger']"
      ]
     },
     "execution_count": 25,
     "metadata": {},
     "output_type": "execute_result"
    }
   ],
   "source": [
    "[item for item in lib_names if 'jenkins' in item and 'mail' in item]"
   ]
  },
  {
   "cell_type": "code",
   "execution_count": null,
   "metadata": {},
   "outputs": [],
   "source": [
    "[item['top_k'] for item in test if item['cve_id'] == 'CVE-2020-2318']"
   ]
  },
  {
   "cell_type": "code",
   "execution_count": null,
   "metadata": {},
   "outputs": [],
   "source": []
  },
  {
   "cell_type": "code",
   "execution_count": 35,
   "metadata": {},
   "outputs": [],
   "source": [
    "with open('test_full_names.json', 'r') as f:\n",
    "    test_full_names = json.load(f)\n",
    "with open('test_zero_names.json', 'r') as f:\n",
    "    test_zero_names = json.load(f)"
   ]
  },
  {
   "cell_type": "code",
   "execution_count": 38,
   "metadata": {},
   "outputs": [],
   "source": [
    "test_full = [item for item in test if item['cve_id'] in test_full_names]\n",
    "test_zero = [item for item in test if item['cve_id'] in test_zero_names]"
   ]
  },
  {
   "cell_type": "code",
   "execution_count": 39,
   "metadata": {},
   "outputs": [
    {
     "data": {
      "text/plain": [
       "(405, 228)"
      ]
     },
     "execution_count": 39,
     "metadata": {},
     "output_type": "execute_result"
    }
   ],
   "source": [
    "len(test_full), len(test_zero)"
   ]
  },
  {
   "cell_type": "code",
   "execution_count": 41,
   "metadata": {},
   "outputs": [],
   "source": [
    "with open('test_full.json', 'w') as f:\n",
    "    json.dump(test_full, f)\n",
    "with open('test_zero.json', 'w') as f:\n",
    "    json.dump(test_zero, f)"
   ]
  },
  {
   "cell_type": "code",
   "execution_count": 45,
   "metadata": {},
   "outputs": [
    {
     "data": {
      "text/plain": [
       "719.5462962962962"
      ]
     },
     "execution_count": 45,
     "metadata": {},
     "output_type": "execute_result"
    }
   ],
   "source": [
    "310844 * 200000 / 1000 / 3600 /24"
   ]
  },
  {
   "cell_type": "code",
   "execution_count": 47,
   "metadata": {},
   "outputs": [],
   "source": [
    "verajava = pd.read_csv('java_tot_df.csv')"
   ]
  },
  {
   "cell_type": "code",
   "execution_count": 48,
   "metadata": {},
   "outputs": [
    {
     "data": {
      "text/plain": [
       "Index(['Unnamed: 0', 'cve_id', 'labels', 'num'], dtype='object')"
      ]
     },
     "execution_count": 48,
     "metadata": {},
     "output_type": "execute_result"
    }
   ],
   "source": [
    "verajava.columns"
   ]
  },
  {
   "cell_type": "code",
   "execution_count": 50,
   "metadata": {},
   "outputs": [],
   "source": [
    "nums = list(verajava['num'])"
   ]
  },
  {
   "cell_type": "code",
   "execution_count": 51,
   "metadata": {},
   "outputs": [],
   "source": [
    "rec = sum([1.0 / item for item in nums]) / len(nums)"
   ]
  },
  {
   "cell_type": "code",
   "execution_count": 54,
   "metadata": {},
   "outputs": [
    {
     "data": {
      "text/plain": [
       "0.6195080115349703"
      ]
     },
     "execution_count": 54,
     "metadata": {},
     "output_type": "execute_result"
    }
   ],
   "source": [
    "rec"
   ]
  },
  {
   "cell_type": "code",
   "execution_count": 53,
   "metadata": {},
   "outputs": [
    {
     "data": {
      "text/plain": [
       "0.7650570508111292"
      ]
     },
     "execution_count": 53,
     "metadata": {},
     "output_type": "execute_result"
    }
   ],
   "source": [
    "rec* 2 / (1 + rec)"
   ]
  },
  {
   "cell_type": "code",
   "execution_count": 55,
   "metadata": {},
   "outputs": [],
   "source": [
    "cves = list(verajava.cve_id)"
   ]
  },
  {
   "cell_type": "code",
   "execution_count": 58,
   "metadata": {},
   "outputs": [],
   "source": [
    "vera_new = [item for item in test if item['cve_id'] in cves]"
   ]
  },
  {
   "cell_type": "code",
   "execution_count": 140,
   "metadata": {},
   "outputs": [],
   "source": [
    "metric_k = 1\n",
    "def f1(p, r):\n",
    "    return 2 * p * r / (p + r)\n",
    "\n",
    "def output(p, r):\n",
    "    res = '%0.3f & %0.3f & %0.3f' % (p, r, f1(p, r))\n",
    "    print(res)\n",
    "    return res\n",
    "\n",
    "def prec(item):\n",
    "    labels = item['labels']\n",
    "    pred = item['top_k'][:metric_k]\n",
    "    return sum([item['lib_name'] in labels for item in pred]) / metric_k\n",
    "\n",
    "def rec(item):\n",
    "    labels = item['labels']\n",
    "    if len(labels) == 0:\n",
    "        return 0.0\n",
    "    pred = item['top_k'][:metric_k]\n",
    "    return sum([item['lib_name'] in labels for item in pred]) / len(labels)\n",
    "\n",
    "def prec_truth(item):\n",
    "    labels = item['labels']\n",
    "    return len(labels[:metric_k]) / metric_k\n",
    "\n",
    "def rec_truth(item):\n",
    "    labels = item['labels']\n",
    "    if len(labels) == 0:\n",
    "        return 0.0\n",
    "    return len(labels[:metric_k]) / len(labels)"
   ]
  },
  {
   "cell_type": "code",
   "execution_count": 75,
   "metadata": {},
   "outputs": [
    {
     "data": {
      "text/plain": [
       "(0.628140703517588, 0.4046123474515435, 0.4921863640908513)"
      ]
     },
     "execution_count": 75,
     "metadata": {},
     "output_type": "execute_result"
    }
   ],
   "source": [
    "prec = sum([prec(item) for item in vera_new]) / len([item for item in vera_new if len(item['labels']) > 0])\n",
    "rec = sum([rec(item) for item in vera_new]) / len([item for item in vera_new if len(item['labels']) > 0])\n",
    "prec, rec, f1(prec, rec)"
   ]
  },
  {
   "cell_type": "code",
   "execution_count": 141,
   "metadata": {},
   "outputs": [
    {
     "name": "stdout",
     "output_type": "stream",
     "text": [
      "1.000 & 0.675 & 0.806\n",
      "0.764 & 0.877 & 0.817\n",
      "0.598 & 0.949 & 0.734\n"
     ]
    },
    {
     "data": {
      "text/plain": [
       "'0.598 & 0.949 & 0.734'"
      ]
     },
     "execution_count": 141,
     "metadata": {},
     "output_type": "execute_result"
    }
   ],
   "source": [
    "metric_k = 1\n",
    "p = sum([prec_truth(item) for item in vera_new]) / len([item for item in vera_new if len(item['labels']) > 0])\n",
    "r = sum([rec_truth(item) for item in vera_new]) / len([item for item in vera_new if len(item['labels']) > 0])\n",
    "output(p, r)\n",
    "metric_k = 2\n",
    "p = sum([prec_truth(item) for item in vera_new]) / len([item for item in vera_new if len(item['labels']) > 0])\n",
    "r = sum([rec_truth(item) for item in vera_new]) / len([item for item in vera_new if len(item['labels']) > 0])\n",
    "output(p, r)\n",
    "metric_k = 3\n",
    "p = sum([prec_truth(item) for item in vera_new]) / len([item for item in vera_new if len(item['labels']) > 0])\n",
    "r = sum([rec_truth(item) for item in vera_new]) / len([item for item in vera_new if len(item['labels']) > 0])\n",
    "output(p, r)"
   ]
  },
  {
   "cell_type": "code",
   "execution_count": 79,
   "metadata": {},
   "outputs": [
    {
     "data": {
      "text/plain": [
       "2.8462379843265433"
      ]
     },
     "execution_count": 79,
     "metadata": {},
     "output_type": "execute_result"
    }
   ],
   "source": [
    "72 * 24 / 310844 * 512"
   ]
  },
  {
   "cell_type": "code",
   "execution_count": null,
   "metadata": {},
   "outputs": [],
   "source": [
    "test[0]"
   ]
  },
  {
   "cell_type": "code",
   "execution_count": 142,
   "metadata": {},
   "outputs": [
    {
     "name": "stdout",
     "output_type": "stream",
     "text": [
      "0.216 & 0.162 & 0.185\n",
      "0.169 & 0.237 & 0.197\n",
      "0.142 & 0.290 & 0.191\n"
     ]
    },
    {
     "data": {
      "text/plain": [
       "'0.142 & 0.290 & 0.191'"
      ]
     },
     "execution_count": 142,
     "metadata": {},
     "output_type": "execute_result"
    }
   ],
   "source": [
    "metric_k = 1\n",
    "p = sum([prec(item) for item in test]) / len([item for item in test if len(item['labels']) > 0])\n",
    "r = sum([rec(item) for item in test]) / len([item for item in test if len(item['labels']) > 0])\n",
    "output(p, r)\n",
    "metric_k = 2\n",
    "p = sum([prec(item) for item in test]) / len([item for item in test if len(item['labels']) > 0])\n",
    "r = sum([rec(item) for item in test]) / len([item for item in test if len(item['labels']) > 0])\n",
    "output(p, r)\n",
    "metric_k = 3\n",
    "p = sum([prec(item) for item in test]) / len([item for item in test if len(item['labels']) > 0])\n",
    "r = sum([rec(item) for item in test]) / len([item for item in test if len(item['labels']) > 0])\n",
    "output(p, r)"
   ]
  },
  {
   "cell_type": "code",
   "execution_count": 143,
   "metadata": {},
   "outputs": [
    {
     "name": "stdout",
     "output_type": "stream",
     "text": [
      "0.146 & 0.073 & 0.098\n",
      "0.156 & 0.161 & 0.159\n",
      "0.141 & 0.215 & 0.170\n"
     ]
    },
    {
     "data": {
      "text/plain": [
       "'0.141 & 0.215 & 0.170'"
      ]
     },
     "execution_count": 143,
     "metadata": {},
     "output_type": "execute_result"
    }
   ],
   "source": [
    "metric_k = 1\n",
    "p = sum([prec(item) for item in vera_new]) / len([item for item in vera_new if len(item['labels']) > 0])\n",
    "r = sum([rec(item) for item in vera_new]) / len([item for item in vera_new if len(item['labels']) > 0])\n",
    "output(p, r)\n",
    "metric_k = 2\n",
    "p = sum([prec(item) for item in vera_new]) / len([item for item in vera_new if len(item['labels']) > 0])\n",
    "r = sum([rec(item) for item in vera_new]) / len([item for item in vera_new if len(item['labels']) > 0])\n",
    "output(p, r)\n",
    "metric_k = 3\n",
    "p = sum([prec(item) for item in vera_new]) / len([item for item in vera_new if len(item['labels']) > 0])\n",
    "r = sum([rec(item) for item in vera_new]) / len([item for item in vera_new if len(item['labels']) > 0])\n",
    "output(p, r)"
   ]
  },
  {
   "cell_type": "code",
   "execution_count": 116,
   "metadata": {},
   "outputs": [
    {
     "data": {
      "text/plain": [
       "Index(['Unnamed: 0', 'cve_id', 'labels', 'num'], dtype='object')"
      ]
     },
     "execution_count": 116,
     "metadata": {},
     "output_type": "execute_result"
    }
   ],
   "source": [
    "verajava.columns"
   ]
  },
  {
   "cell_type": "code",
   "execution_count": 119,
   "metadata": {},
   "outputs": [
    {
     "data": {
      "text/plain": [
       "['jenkins', 'openshift-origin-cartridge-jenkins', 'jenkins-plugin-openshift']"
      ]
     },
     "execution_count": 119,
     "metadata": {},
     "output_type": "execute_result"
    }
   ],
   "source": [
    "eval(verajava.iloc[2, 2])"
   ]
  },
  {
   "cell_type": "code",
   "execution_count": null,
   "metadata": {},
   "outputs": [],
   "source": []
  },
  {
   "cell_type": "code",
   "execution_count": 120,
   "metadata": {},
   "outputs": [],
   "source": [
    "vera_train = [item for item in train if item['cve_id'] in cves]\n",
    "vera_test = [item for item in test if item['cve_id'] in cves]"
   ]
  },
  {
   "cell_type": "code",
   "execution_count": 124,
   "metadata": {},
   "outputs": [],
   "source": [
    "vera_train_labels = set()\n",
    "for item in vera_train:\n",
    "    vera_train_labels = vera_train_labels | set(item['labels'])"
   ]
  },
  {
   "cell_type": "code",
   "execution_count": 125,
   "metadata": {},
   "outputs": [
    {
     "data": {
      "text/plain": [
       "690"
      ]
     },
     "execution_count": 125,
     "metadata": {},
     "output_type": "execute_result"
    }
   ],
   "source": [
    "len(vera_train_labels)"
   ]
  },
  {
   "cell_type": "code",
   "execution_count": 132,
   "metadata": {},
   "outputs": [
    {
     "data": {
      "text/plain": [
       "(116, 83)"
      ]
     },
     "execution_count": 132,
     "metadata": {},
     "output_type": "execute_result"
    }
   ],
   "source": [
    "vera_test_full = [item for item in vera_test if len(set(item['labels']) & vera_train_labels) == len(set(item['labels']))]\n",
    "vera_test_zero = [item for item in vera_test if len(set(item['labels']) & vera_train_labels) != len(set(item['labels']))]\n",
    "len(vera_test_full), len(vera_test_zero)"
   ]
  },
  {
   "cell_type": "code",
   "execution_count": 134,
   "metadata": {},
   "outputs": [
    {
     "data": {
      "text/plain": [
       "(144, 55)"
      ]
     },
     "execution_count": 134,
     "metadata": {},
     "output_type": "execute_result"
    }
   ],
   "source": [
    "vera_test_zero = [item for item in vera_test if len(set(item['labels']) & vera_train_labels) == 0]\n",
    "vera_test_full = [item for item in vera_test if len(set(item['labels']) & vera_train_labels) != 0]\n",
    "len(vera_test_full), len(vera_test_zero)"
   ]
  },
  {
   "cell_type": "code",
   "execution_count": 137,
   "metadata": {},
   "outputs": [],
   "source": [
    "with open('test_zero.json', 'r') as f:\n",
    "    test_zero = json.load(f)\n",
    "with open('test_full.json', 'r') as f:\n",
    "    test_full = json.load(f)"
   ]
  },
  {
   "cell_type": "code",
   "execution_count": 139,
   "metadata": {},
   "outputs": [
    {
     "data": {
      "text/plain": [
       "(405, 228)"
      ]
     },
     "execution_count": 139,
     "metadata": {},
     "output_type": "execute_result"
    }
   ],
   "source": [
    "len(test_full), len(test_zero)"
   ]
  },
  {
   "cell_type": "code",
   "execution_count": null,
   "metadata": {},
   "outputs": [],
   "source": []
  },
  {
   "cell_type": "code",
   "execution_count": 144,
   "metadata": {},
   "outputs": [
    {
     "name": "stdout",
     "output_type": "stream",
     "text": [
      "0.050 & 0.037 & 0.043\n",
      "0.050 & 0.073 & 0.060\n",
      "0.042 & 0.090 & 0.057\n"
     ]
    },
    {
     "data": {
      "text/plain": [
       "'0.042 & 0.090 & 0.057'"
      ]
     },
     "execution_count": 144,
     "metadata": {},
     "output_type": "execute_result"
    }
   ],
   "source": [
    "metric_k = 1\n",
    "p = sum([prec(item) for item in vera_test_zero]) / len([item for item in vera_new if len(item['labels']) > 0])\n",
    "r = sum([rec(item) for item in vera_test_zero]) / len([item for item in vera_new if len(item['labels']) > 0])\n",
    "output(p, r)\n",
    "metric_k = 2\n",
    "p = sum([prec(item) for item in vera_test_zero]) / len([item for item in vera_new if len(item['labels']) > 0])\n",
    "r = sum([rec(item) for item in vera_test_zero]) / len([item for item in vera_new if len(item['labels']) > 0])\n",
    "output(p, r)\n",
    "metric_k = 3\n",
    "p = sum([prec(item) for item in vera_test_zero]) / len([item for item in vera_new if len(item['labels']) > 0])\n",
    "r = sum([rec(item) for item in vera_test_zero]) / len([item for item in vera_new if len(item['labels']) > 0])\n",
    "output(p, r)"
   ]
  },
  {
   "cell_type": "code",
   "execution_count": 145,
   "metadata": {},
   "outputs": [
    {
     "name": "stdout",
     "output_type": "stream",
     "text": [
      "0.246 & 0.222 & 0.233\n",
      "0.156 & 0.273 & 0.198\n",
      "0.124 & 0.318 & 0.178\n"
     ]
    },
    {
     "data": {
      "text/plain": [
       "'0.124 & 0.318 & 0.178'"
      ]
     },
     "execution_count": 145,
     "metadata": {},
     "output_type": "execute_result"
    }
   ],
   "source": [
    "metric_k = 1\n",
    "p = sum([prec(item) for item in test_zero]) / len([item for item in vera_new if len(item['labels']) > 0])\n",
    "r = sum([rec(item) for item in test_zero]) / len([item for item in vera_new if len(item['labels']) > 0])\n",
    "output(p, r)\n",
    "metric_k = 2\n",
    "p = sum([prec(item) for item in test_zero]) / len([item for item in vera_new if len(item['labels']) > 0])\n",
    "r = sum([rec(item) for item in test_zero]) / len([item for item in vera_new if len(item['labels']) > 0])\n",
    "output(p, r)\n",
    "metric_k = 3\n",
    "p = sum([prec(item) for item in test_zero]) / len([item for item in vera_new if len(item['labels']) > 0])\n",
    "r = sum([rec(item) for item in test_zero]) / len([item for item in vera_new if len(item['labels']) > 0])\n",
    "output(p, r)"
   ]
  },
  {
   "cell_type": "code",
   "execution_count": 146,
   "metadata": {},
   "outputs": [
    {
     "name": "stdout",
     "output_type": "stream",
     "text": [
      "0.095 & 0.036 & 0.052\n",
      "0.106 & 0.088 & 0.096\n",
      "0.099 & 0.125 & 0.111\n"
     ]
    },
    {
     "data": {
      "text/plain": [
       "'0.099 & 0.125 & 0.111'"
      ]
     },
     "execution_count": 146,
     "metadata": {},
     "output_type": "execute_result"
    }
   ],
   "source": [
    "metric_k = 1\n",
    "p = sum([prec(item) for item in vera_test_full]) / len([item for item in vera_new if len(item['labels']) > 0])\n",
    "r = sum([rec(item) for item in vera_test_full]) / len([item for item in vera_new if len(item['labels']) > 0])\n",
    "output(p, r)\n",
    "metric_k = 2\n",
    "p = sum([prec(item) for item in vera_test_full]) / len([item for item in vera_new if len(item['labels']) > 0])\n",
    "r = sum([rec(item) for item in vera_test_full]) / len([item for item in vera_new if len(item['labels']) > 0])\n",
    "output(p, r)\n",
    "metric_k = 3\n",
    "p = sum([prec(item) for item in vera_test_full]) / len([item for item in vera_new if len(item['labels']) > 0])\n",
    "r = sum([rec(item) for item in vera_test_full]) / len([item for item in vera_new if len(item['labels']) > 0])\n",
    "output(p, r)"
   ]
  },
  {
   "cell_type": "code",
   "execution_count": 147,
   "metadata": {},
   "outputs": [
    {
     "name": "stdout",
     "output_type": "stream",
     "text": [
      "0.367 & 0.238 & 0.289\n",
      "0.324 & 0.399 & 0.358\n",
      "0.280 & 0.505 & 0.360\n"
     ]
    },
    {
     "data": {
      "text/plain": [
       "'0.280 & 0.505 & 0.360'"
      ]
     },
     "execution_count": 147,
     "metadata": {},
     "output_type": "execute_result"
    }
   ],
   "source": [
    "metric_k = 1\n",
    "p = sum([prec(item) for item in test_full]) / len([item for item in vera_new if len(item['labels']) > 0])\n",
    "r = sum([rec(item) for item in test_full]) / len([item for item in vera_new if len(item['labels']) > 0])\n",
    "output(p, r)\n",
    "metric_k = 2\n",
    "p = sum([prec(item) for item in test_full]) / len([item for item in vera_new if len(item['labels']) > 0])\n",
    "r = sum([rec(item) for item in test_full]) / len([item for item in vera_new if len(item['labels']) > 0])\n",
    "output(p, r)\n",
    "metric_k = 3\n",
    "p = sum([prec(item) for item in test_full]) / len([item for item in vera_new if len(item['labels']) > 0])\n",
    "r = sum([rec(item) for item in test_full]) / len([item for item in vera_new if len(item['labels']) > 0])\n",
    "output(p, r)"
   ]
  }
 ],
 "metadata": {
  "kernelspec": {
   "display_name": "Python 3",
   "language": "python",
   "name": "python3"
  },
  "language_info": {
   "codemirror_mode": {
    "name": "ipython",
    "version": 3
   },
   "file_extension": ".py",
   "mimetype": "text/x-python",
   "name": "python",
   "nbconvert_exporter": "python",
   "pygments_lexer": "ipython3",
   "version": "3.8.3"
  }
 },
 "nbformat": 4,
 "nbformat_minor": 4
}
