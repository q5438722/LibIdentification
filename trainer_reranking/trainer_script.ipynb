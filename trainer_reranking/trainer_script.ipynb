{
 "cells": [
  {
   "cell_type": "code",
   "execution_count": 1,
   "id": "76eafeed-db2f-4829-8c43-a1e6e80bdf8c",
   "metadata": {},
   "outputs": [
    {
     "name": "stderr",
     "output_type": "stream",
     "text": [
      "/home/ma-user/anaconda3/envs/PyTorch-2.0.0/lib/python3.9/site-packages/tqdm/auto.py:21: TqdmWarning: IProgress not found. Please update jupyter and ipywidgets. See https://ipywidgets.readthedocs.io/en/stable/user_install.html\n",
      "  from .autonotebook import tqdm as notebook_tqdm\n"
     ]
    },
    {
     "name": "stdout",
     "output_type": "stream",
     "text": [
      "[2023-11-09 11:28:00,883] [INFO] [real_accelerator.py:158:get_accelerator] Setting ds_accelerator to cuda (auto detect)\n"
     ]
    }
   ],
   "source": [
    "import argparse\n",
    "import os\n",
    "import time\n",
    "import pathlib\n",
    "import sys\n",
    "\n",
    "from dataclasses import dataclass, field, asdict\n",
    "from typing import Optional, List, Tuple, Union\n",
    "\n",
    "import torch\n",
    "import torch.nn as nn\n",
    "from transformers import BertForSequenceClassification, TrainingArguments, Trainer\n",
    "from transformers import AutoTokenizer, Trainer, DataCollatorWithPadding, TrainingArguments, \\\n",
    "    EvalPrediction, HfArgumentParser\n",
    "\n",
    "# _project_root = str(pathlib.Path(__file__).resolve().parents[1])\n",
    "_project_root = '.'\n",
    "sys.path.insert(0, _project_root)\n",
    "\n",
    "from dataset.classifier_dataset import ClassifierDataSet\n",
    "from model.model import BertFNNClassifier\n",
    "from model.focal_model import FocalBertFNNClassifier\n",
    "from model.customized_loss import FocalLoss\n",
    "from model.bert_fnn import BasicBertFNN\n",
    "\n",
    "@dataclass\n",
    "class ModelArguments:\n",
    "    base_model_name: str = field(default=\"Bert\")\n",
    "    base_model_path: Optional[str] = field(default='/data/chentianyu/libminer/input/bert-base-uncased_raw')\n",
    "    evaluate_only: bool = field(default=False)\n",
    "    to_evaluate_checkpoint: str = field(default=None)\n",
    "    loss_fct: str = field(default=\"LabelSmoothingLoss\")\n",
    "    loss_epsilon: float = field(default=0)\n",
    "    loss_alpha: float = field(default=0.95)\n",
    "    loss_gamma: float = field(default=2)\n",
    "    num_labels: float = field(default=1)\n"
   ]
  },
  {
   "cell_type": "code",
   "execution_count": 2,
   "id": "ae28ec80-c072-4d0f-82c2-d42e3510b12e",
   "metadata": {},
   "outputs": [],
   "source": [
    "parser = HfArgumentParser(ModelArguments)\n",
    "import os, sys\n",
    "sys.argv = ['f1.py']\n",
    "model_args = parser.parse_args_into_dataclasses()[0]\n",
    "\n",
    "\n",
    "loss_args = {\n",
    "    \"epsilon\": model_args.loss_epsilon,\n",
    "    \"alpha\": model_args.loss_alpha,\n",
    "    \"gamma\": model_args.loss_gamma\n",
    "}\n",
    "\n",
    "loss_fct = FocalLoss(**loss_args)\n",
    "\n",
    "from_pretrained_args = {\n",
    "    \"pretrained_model_name_or_path\": model_args.base_model_path,\n",
    "    \"use_cache\": True,\n",
    "    \"num_labels\": 1,\n",
    "    \"torch_dtype\": torch.float32,\n",
    "}\n",
    "\n",
    "\n",
    "parser = argparse.ArgumentParser(description=\"train bert fnn\",\n",
    "                                 formatter_class=argparse.ArgumentDefaultsHelpFormatter)\n",
    "\n",
    "parser.add_argument('--data_url', type=str, help='the training data', default=\"/data/chentianyu/libminer/input/\")\n",
    "parser.add_argument('--train_url', type=str, help='the path model saved', default=\"/efs_data/chentianyu/VulLibMiner/\")\n",
    "parser.add_argument('--sep_token', type=str, help='sep token of lib corpus', default=\" \")\n",
    "parser.add_argument('--mask_rate', type=float, help='rate of mask lib corpus', default=0)\n",
    "\n",
    "args, _ = parser.parse_known_args()\n",
    "input_path = args.data_url\n",
    "output_path = args.train_url\n",
    "bert_base_path = os.path.join(input_path, \"bert-base-uncased_raw\")\n"
   ]
  },
  {
   "cell_type": "code",
   "execution_count": 37,
   "id": "08278c98-4c3c-4943-97de-8f4ef0294422",
   "metadata": {},
   "outputs": [
    {
     "name": "stderr",
     "output_type": "stream",
     "text": [
      "Some weights of BertForSequenceClassification were not initialized from the model checkpoint at /data/chentianyu/libminer/input/bert-base-uncased_raw/ and are newly initialized: ['classifier.weight', 'classifier.bias']\n",
      "You should probably TRAIN this model on a down-stream task to be able to use it for predictions and inference.\n"
     ]
    }
   ],
   "source": [
    "model = BertForSequenceClassification.from_pretrained('/data/chentianyu/libminer/input/bert-base-uncased_raw/')"
   ]
  },
  {
   "cell_type": "code",
   "execution_count": 78,
   "id": "8d54d06f-c3aa-4175-8bca-8b2d6d0fd563",
   "metadata": {},
   "outputs": [
    {
     "name": "stderr",
     "output_type": "stream",
     "text": [
      "Some weights of BasicBertFNN were not initialized from the model checkpoint at /data/chentianyu/libminer/input/bert-base-uncased_raw/ and are newly initialized: ['classifier.bias', 'classifier.weight']\n",
      "You should probably TRAIN this model on a down-stream task to be able to use it for predictions and inference.\n"
     ]
    }
   ],
   "source": [
    "model = BasicBertFNN.from_pretrained('/data/chentianyu/libminer/input/bert-base-uncased_raw/')"
   ]
  },
  {
   "cell_type": "code",
   "execution_count": 95,
   "id": "0b9cfdd9-ae14-4c41-a1c9-d742587ddbc8",
   "metadata": {},
   "outputs": [],
   "source": [
    "del sys.modules['model.model']\n",
    "del sys.modules['dataset.classifier_dataset']\n",
    "# BertFNNClassifier??"
   ]
  },
  {
   "cell_type": "code",
   "execution_count": 3,
   "id": "3b965f3d-9e8d-4e80-87bd-42f556570e73",
   "metadata": {},
   "outputs": [
    {
     "name": "stderr",
     "output_type": "stream",
     "text": [
      "Some weights of BertFNNClassifier were not initialized from the model checkpoint at /data/chentianyu/libminer/input/bert-base-uncased_raw and are newly initialized: ['classifier.weight', 'classifier.bias']\n",
      "You should probably TRAIN this model on a down-stream task to be able to use it for predictions and inference.\n"
     ]
    }
   ],
   "source": [
    "model = BertFNNClassifier.from_pretrained(**from_pretrained_args)"
   ]
  },
  {
   "cell_type": "code",
   "execution_count": 41,
   "id": "c707b3b3-6d15-4080-b8a4-64b52a7a4e9a",
   "metadata": {},
   "outputs": [
    {
     "data": {
      "text/plain": [
       "transformers.models.bert.modeling_bert.BertForSequenceClassification"
      ]
     },
     "execution_count": 41,
     "metadata": {},
     "output_type": "execute_result"
    }
   ],
   "source": [
    "type(model)"
   ]
  },
  {
   "cell_type": "raw",
   "id": "824a48f7-f2a2-4f3c-95cf-2c816b252265",
   "metadata": {},
   "source": [
    "#for debugging\n",
    "data_base_path = os.path.join(input_path, \"dataset_v0\")\n",
    "valid_data_set = ClassifierDataSet(os.path.join(data_base_path, \"validate.json\"),\n",
    "                                   args.sep_token, args.mask_rate, bert_base_path)\n",
    "train_data_set = valid_data_set"
   ]
  },
  {
   "cell_type": "code",
   "execution_count": 5,
   "id": "4fa41b47-7b0e-452d-a462-152985793a47",
   "metadata": {},
   "outputs": [],
   "source": [
    "data_base_path = os.path.join(input_path, \"dataset_v1_4\")\n",
    "train_data_set = ClassifierDataSet(os.path.join(data_base_path, \"train.json\"),\n",
    "                                   args.sep_token, args.mask_rate, bert_base_path, (128, 80, 128, 256))\n",
    "valid_data_set = ClassifierDataSet(os.path.join(data_base_path, \"validate.json\"),\n",
    "                                   args.sep_token, args.mask_rate, bert_base_path, (128, 80, 128, 256))"
   ]
  },
  {
   "cell_type": "code",
   "execution_count": null,
   "id": "b8c32542-2dbc-4c2f-9aa4-660042be5093",
   "metadata": {},
   "outputs": [],
   "source": [
    "test_data_set = ClassifierDataSet(os.path.join(data_base_path, \"test.json\"),\n",
    "                                   args.sep_token, args.mask_rate, bert_base_path, (2048, 80, 128, 256))"
   ]
  },
  {
   "cell_type": "code",
   "execution_count": 22,
   "id": "895a2b06-af87-408b-bc2d-5f67fdcfeab1",
   "metadata": {},
   "outputs": [],
   "source": [
    "data_base_path = os.path.join(input_path, \"dataset_v1_4\")\n",
    "test_data_set = ClassifierDataSet(os.path.join(data_base_path, \"test_to_4096_new.json\"),\n",
    "                                   args.sep_token, args.mask_rate, bert_base_path, (2048, 80, 128, 256))"
   ]
  },
  {
   "cell_type": "code",
   "execution_count": 5,
   "id": "1369df6d-4de3-4855-baeb-49e27bdd42d0",
   "metadata": {},
   "outputs": [
    {
     "data": {
      "text/plain": [
       "tensor(1973)"
      ]
     },
     "execution_count": 5,
     "metadata": {},
     "output_type": "execute_result"
    }
   ],
   "source": [
    "sum([item['labels'] for item in train_data_set])"
   ]
  },
  {
   "cell_type": "code",
   "execution_count": 5,
   "id": "46230313-4561-4924-9130-975ab11c8fac",
   "metadata": {},
   "outputs": [],
   "source": [
    "from sklearn.metrics import roc_auc_score, precision_recall_curve, matthews_corrcoef, accuracy_score\n",
    "import numpy as np\n",
    "\n",
    "def sigmoid(z: np.ndarray):\n",
    "    return 1 / (1 + np.exp(-z))\n",
    "\n",
    "def np_divide(a, b):\n",
    "    # return 0 with divide by 0 while performing element wise divide for np.arrays\n",
    "    return np.divide(a, b, out=np.zeros_like(a), where=(b != 0))\n",
    "\n",
    "def f1_score(p, r):\n",
    "    if p + r < 1e-5:\n",
    "        return 0.0\n",
    "    return 2 * p * r / (p + r)\n",
    "\n",
    "def modified_topk(predictions, labels, k):\n",
    "    rerank = [item for item in zip(predictions, labels)]\n",
    "    rerank.sort(reverse=True)\n",
    "\n",
    "    if sum(labels) == 0:\n",
    "        return None\n",
    "    hits = sum([item[1] for item in rerank[:k]])\n",
    "    prec = hits / min(k, sum(labels))\n",
    "    rec = hits / sum(labels)\n",
    "#     print(prec, rec)\n",
    "    return prec, rec, f1_score(prec, rec)\n",
    "\n",
    "def compute_metrics(eval_pred: EvalPrediction):\n",
    "    scores = sigmoid(eval_pred.predictions.reshape(-1, ))\n",
    "    labels = eval_pred.label_ids.reshape(-1, )\n",
    "    precision, recall, thresholds = precision_recall_curve(labels, scores)\n",
    "\n",
    "    # while computing f1 = (2 * precision * recall) / (precision + recall), some element in (precision+recall) will be 0\n",
    "    f1 = np_divide(2 * precision * recall, precision + recall)\n",
    "    f1_idx = np.argmax(f1)\n",
    "    f1_best = f1[f1_idx]\n",
    "    # mcc = np.array([matthews_corrcoef(labels, (scores >= threshold).astype(int)) for threshold in thresholds])\n",
    "    # mcc_idx = np.argmax(mcc)\n",
    "    # mcc_best = mcc[mcc_idx]\n",
    "\n",
    "    # acc = np.array([accuracy_score(labels, (scores >= threshold).astype(int)) for threshold in thresholds])\n",
    "    # acc_idx = np.argmax(acc)\n",
    "    # acc_best = acc[acc_idx]\n",
    "\n",
    "    auc = roc_auc_score(y_true=labels, y_score=scores)\n",
    "\n",
    "    k = 1\n",
    "    res = [modified_topk(predictions, labels, k) for predictions, labels in \\\n",
    "               zip(eval_pred.predictions.reshape(-1, 128), eval_pred.label_ids.reshape(-1, 128))]\n",
    "    res = [item for item in res if item != None]\n",
    "    ps, rs, fs = [v[0] for v in res], [v[1] for v in res], [v[2] for v in res]\n",
    "    print(sum(ps) / len(ps), sum(rs) / len(rs), f1_score(sum(ps) / len(ps), sum(rs) / len(rs)))\n",
    "\n",
    "    return {\"auc\": auc,\n",
    "            # \"accuracy_best\": acc_best,\n",
    "            # \"accuracy_threshold\": thresholds[acc_idx],\n",
    "            \"f1_best\": f1_best,\n",
    "            \"f1_threshold\": thresholds[f1_idx],\n",
    "            \"precision_1\": sum(ps) / len(ps),\n",
    "            \"recall_1\": sum(rs) / len(rs),\n",
    "            \"f1_1\": f1_score(sum(ps) / len(ps), sum(rs) / len(rs)),\n",
    "            # \"mcc_best\": mcc_best,\n",
    "            # \"mcc_threshold\": thresholds[mcc_idx],\n",
    "            \"num_samples\": len(labels)}\n"
   ]
  },
  {
   "cell_type": "code",
   "execution_count": 6,
   "id": "f1c2d5c2-aa53-4871-b76f-61a8e8bdf7d6",
   "metadata": {},
   "outputs": [],
   "source": [
    "training_args = TrainingArguments(\n",
    "    output_dir=os.path.join(output_path, time.strftime(\"BCE_Weight_%Y_%m%d_%H_%M\", time.localtime(time.time()))),\n",
    "    num_train_epochs=20,\n",
    "    evaluation_strategy=\"epoch\",\n",
    "    eval_delay=1,\n",
    "    save_strategy=\"epoch\",\n",
    "    per_device_train_batch_size=32,\n",
    "    per_device_eval_batch_size=64,\n",
    "    warmup_steps=500,\n",
    "    weight_decay=0.01,\n",
    "    logging_dir=os.path.join(output_path, 'logs'),\n",
    "    logging_steps=10,\n",
    "    optim=\"adamw_torch\",\n",
    "    learning_rate=2e-5\n",
    "    # disable_tqdm=True\n",
    ")"
   ]
  },
  {
   "cell_type": "code",
   "execution_count": 62,
   "id": "75ac1483-c2b6-46ea-b51e-0b2d616dbca1",
   "metadata": {},
   "outputs": [],
   "source": [
    "trainer = Trainer(\n",
    "    model=model,\n",
    "    args=training_args,\n",
    "    train_dataset=train_data_set,\n",
    "    eval_dataset=valid_data_set,\n",
    "    compute_metrics=compute_metrics\n",
    ")"
   ]
  },
  {
   "cell_type": "code",
   "execution_count": null,
   "id": "d6f7e43c-32d0-4fb3-be1f-5c6f26529b19",
   "metadata": {
    "scrolled": true
   },
   "outputs": [],
   "source": [
    "trainer.train()"
   ]
  },
  {
   "cell_type": "markdown",
   "id": "42d67e23-e2ca-4981-a14e-02a885cf374b",
   "metadata": {},
   "source": [
    "The following is test scripts"
   ]
  },
  {
   "cell_type": "code",
   "execution_count": null,
   "id": "01e3d608-ceb2-472d-bac3-1debdd3cb664",
   "metadata": {},
   "outputs": [],
   "source": [
    "model = BertFNNClassifier.from_pretrained('/efs_data/chentianyu/VulLibMiner/BCE_Weight_2023_1019_10_16/checkpoint-2325/')"
   ]
  },
  {
   "cell_type": "code",
   "execution_count": 29,
   "id": "33af605b-428e-4a4e-bd85-cd9fd160f826",
   "metadata": {},
   "outputs": [],
   "source": [
    "model = BertFNNClassifier.from_pretrained('/efs_data/chentianyu/VulLibMiner/BCE_Weight_2023_1019_18_03/checkpoint-13020/')"
   ]
  },
  {
   "cell_type": "code",
   "execution_count": 26,
   "id": "649ebe86-c1d7-4283-9377-0c7ac73eb224",
   "metadata": {},
   "outputs": [],
   "source": [
    "model = BertFNNClassifier.from_pretrained('/efs_data/chentianyu/VulLibMiner/BCE_Weight_2023_1019_18_03/checkpoint-13950/')"
   ]
  },
  {
   "cell_type": "code",
   "execution_count": 140,
   "id": "d980a895-0667-4864-970a-39650bdba5ca",
   "metadata": {},
   "outputs": [],
   "source": [
    "model = BertFNNClassifier.from_pretrained('/efs_data/chentianyu/VulLibMiner/Focal_v1_2023_1018_18_38/checkpoint-11625/')"
   ]
  },
  {
   "cell_type": "code",
   "execution_count": 103,
   "id": "6a2c2a18-2ef0-48ac-a990-5ec1e1f0cf87",
   "metadata": {},
   "outputs": [],
   "source": [
    "model = BertFNNClassifier.from_pretrained('/efs_data/chentianyu/VulLibMiner/BCE_Weight_2023_1019_13_04/checkpoint-11160/')"
   ]
  },
  {
   "cell_type": "code",
   "execution_count": 17,
   "id": "ee01a260-6150-4086-93ab-a2b064fb6ebb",
   "metadata": {},
   "outputs": [
    {
     "data": {
      "text/plain": [
       "4096.0"
      ]
     },
     "execution_count": 17,
     "metadata": {},
     "output_type": "execute_result"
    }
   ],
   "source": [
    "len(test_data_set)/633"
   ]
  },
  {
   "cell_type": "code",
   "execution_count": null,
   "id": "535df814-6d56-41b6-9909-de42c6ca0dd8",
   "metadata": {},
   "outputs": [],
   "source": [
    "%%time\n",
    "trainer = Trainer(\n",
    "    model=model,\n",
    "    args=training_args,\n",
    "    # train_dataset=train_data_set,\n",
    "    # eval_dataset=valid_data_set,\n",
    "    compute_metrics=compute_metrics\n",
    ")\n",
    "test_res_bce_4096 = trainer.predict(test_data_set)"
   ]
  },
  {
   "cell_type": "code",
   "execution_count": 10,
   "id": "ef505ab7-8ee7-4399-b5f8-92388c2893b0",
   "metadata": {},
   "outputs": [
    {
     "data": {
      "text/html": [],
      "text/plain": [
       "<IPython.core.display.HTML object>"
      ]
     },
     "metadata": {},
     "output_type": "display_data"
    },
    {
     "name": "stdout",
     "output_type": "stream",
     "text": [
      "0.7598039215686274 0.6368230625583565 0.6928989139926128\n",
      "CPU times: user 19min 13s, sys: 6min 5s, total: 25min 19s\n",
      "Wall time: 17min 22s\n"
     ]
    }
   ],
   "source": [
    "%%time\n",
    "trainer = Trainer(\n",
    "    model=model,\n",
    "    args=training_args,\n",
    "    train_dataset=train_data_set,\n",
    "    eval_dataset=valid_data_set,\n",
    "    compute_metrics=compute_metrics\n",
    ")\n",
    "test_res_bce = trainer.predict(test_data_set)"
   ]
  },
  {
   "cell_type": "code",
   "execution_count": 30,
   "id": "29683352-9f47-4d56-b8d2-1092ad81f18a",
   "metadata": {},
   "outputs": [
    {
     "data": {
      "text/html": [],
      "text/plain": [
       "<IPython.core.display.HTML object>"
      ]
     },
     "metadata": {},
     "output_type": "display_data"
    },
    {
     "name": "stdout",
     "output_type": "stream",
     "text": [
      "0.7636022514071295 0.6252434557312606 0.6875311030160254\n"
     ]
    }
   ],
   "source": [
    "trainer = Trainer(\n",
    "    model=model,\n",
    "    args=training_args,\n",
    "    train_dataset=train_data_set,\n",
    "    eval_dataset=valid_data_set,\n",
    "    compute_metrics=compute_metrics\n",
    ")\n",
    "test_res_bce = trainer.predict(test_data_set)"
   ]
  },
  {
   "cell_type": "code",
   "execution_count": 43,
   "id": "9aa54235-63ff-4d17-9cad-5b9a4c1602d6",
   "metadata": {},
   "outputs": [
    {
     "data": {
      "text/html": [],
      "text/plain": [
       "<IPython.core.display.HTML object>"
      ]
     },
     "metadata": {},
     "output_type": "display_data"
    },
    {
     "name": "stdout",
     "output_type": "stream",
     "text": [
      "0.7598039215686274 0.6368230625583565 0.6928989139926128\n"
     ]
    }
   ],
   "source": [
    "trainer = Trainer(\n",
    "    model=model,\n",
    "    args=training_args,\n",
    "    train_dataset=train_data_set,\n",
    "    eval_dataset=valid_data_set,\n",
    "    compute_metrics=compute_metrics\n",
    ")\n",
    "test_res_bce = trainer.predict(test_data_set)"
   ]
  },
  {
   "cell_type": "code",
   "execution_count": 36,
   "id": "ec2c8238-d86a-4426-bd07-51640e3dd257",
   "metadata": {},
   "outputs": [
    {
     "data": {
      "text/html": [],
      "text/plain": [
       "<IPython.core.display.HTML object>"
      ]
     },
     "metadata": {},
     "output_type": "display_data"
    },
    {
     "name": "stdout",
     "output_type": "stream",
     "text": [
      "0.7654784240150094 0.626145805414098 0.6888369635941427\n"
     ]
    }
   ],
   "source": [
    "trainer = Trainer(\n",
    "    model=model,\n",
    "    args=training_args,\n",
    "    train_dataset=train_data_set,\n",
    "    eval_dataset=valid_data_set,\n",
    "    compute_metrics=compute_metrics\n",
    ")\n",
    "test_res_bce = trainer.predict(test_data_set)"
   ]
  },
  {
   "cell_type": "code",
   "execution_count": 20,
   "id": "527837aa-bd4a-4939-b518-35f8976c8f0f",
   "metadata": {},
   "outputs": [],
   "source": [
    "def f1_score(p, r):\n",
    "    if p + r < 1e-5:\n",
    "        return 0.0\n",
    "    return 2 * p * r / (p + r)\n",
    "\n",
    "def modified_metrics_simple(predictions, labels, label_num, k):\n",
    "    rerank = [item for item in zip(predictions, labels)][:512]\n",
    "    rerank.sort(reverse=True)\n",
    "\n",
    "    if label_num == 0:\n",
    "        return None\n",
    "    hits = sum([item[1] for item in rerank[:k]])\n",
    "    prec = hits / min(k, label_num)\n",
    "    rec = hits / label_num\n",
    "#     print(prec, rec)\n",
    "    return prec, rec, f1_score(prec, rec)"
   ]
  },
  {
   "cell_type": "code",
   "execution_count": 11,
   "id": "20aed445-1cc6-408e-9e00-d247896dc7df",
   "metadata": {},
   "outputs": [],
   "source": [
    "import json\n",
    "\n",
    "with open(os.path.join(data_base_path, \"test_to_4096.json\"), 'r') as f:\n",
    "    test_set_raw = json.load(f)\n",
    "label_nums = [len(item['labels']) for item in test_set_raw]"
   ]
  },
  {
   "cell_type": "code",
   "execution_count": 13,
   "id": "5446cf5a-7095-44f9-963f-e6f830773c14",
   "metadata": {},
   "outputs": [],
   "source": [
    "import json\n",
    "\n",
    "with open(os.path.join(data_base_path, \"test.json\"), 'r') as f:\n",
    "    test_set_raw = json.load(f)\n",
    "label_nums = [len(item['labels']) for item in test_set_raw]"
   ]
  },
  {
   "cell_type": "code",
   "execution_count": 79,
   "id": "3fb00b48-cd7c-4b8a-b5ac-08d8c018b5fe",
   "metadata": {},
   "outputs": [
    {
     "name": "stdout",
     "output_type": "stream",
     "text": [
      "0.5929203539823009 0.4731879477454699 0.526330702092298\n"
     ]
    }
   ],
   "source": [
    "k, ws = 1, 128\n",
    "res = [modified_metrics_simple(predictions, labels, label_num, k) for predictions, labels, label_num in \\\n",
    "           zip(test_res.predictions.reshape(-1, 128), test_res.label_ids.reshape(-1, 128), label_nums)]\n",
    "res = [item for item in res if item != None]\n",
    "ps, rs, fs = [v[0] for v in res], [v[1] for v in res], [v[2] for v in res]\n",
    "print(sum(ps) / len(ps), sum(rs) / len(rs), f1_score(sum(ps) / len(ps), sum(rs) / len(rs)))"
   ]
  },
  {
   "cell_type": "code",
   "execution_count": 111,
   "id": "0908d0dd-e61e-438c-874d-17d51d0f27e4",
   "metadata": {},
   "outputs": [
    {
     "name": "stdout",
     "output_type": "stream",
     "text": [
      "0.647787610619469 0.49761004482243426 0.5628536437529342\n"
     ]
    }
   ],
   "source": [
    "k, ws = 1, 128\n",
    "res = [modified_metrics_simple(predictions, labels, label_num, k) for predictions, labels, label_num in \\\n",
    "           zip(test_res_bce.predictions.reshape(-1, 128), test_res_bce.label_ids.reshape(-1, 128), label_nums)]\n",
    "res = [item for item in res if item != None]\n",
    "ps, rs, fs = [v[0] for v in res], [v[1] for v in res], [v[2] for v in res]\n",
    "print(sum(ps) / len(ps), sum(rs) / len(rs), f1_score(sum(ps) / len(ps), sum(rs) / len(rs)))"
   ]
  },
  {
   "cell_type": "code",
   "execution_count": 142,
   "id": "57882359-ef03-4b29-b59f-658a3eb1ae30",
   "metadata": {},
   "outputs": [
    {
     "name": "stdout",
     "output_type": "stream",
     "text": [
      "0.6460176991150443 0.49795138489828755 0.5624022754436476\n"
     ]
    }
   ],
   "source": [
    "k, ws = 1, 128\n",
    "res = [modified_metrics_simple(predictions, labels, label_num, k) for predictions, labels, label_num in \\\n",
    "           zip(test_res_bce.predictions.reshape(-1, 128), test_res_bce.label_ids.reshape(-1, 128), label_nums)]\n",
    "res = [item for item in res if item != None]\n",
    "ps, rs, fs = [v[0] for v in res], [v[1] for v in res], [v[2] for v in res]\n",
    "print(sum(ps) / len(ps), sum(rs) / len(rs), f1_score(sum(ps) / len(ps), sum(rs) / len(rs)))"
   ]
  },
  {
   "cell_type": "code",
   "execution_count": 151,
   "id": "79b4a05c-d94c-44c9-8850-724dd93d358b",
   "metadata": {},
   "outputs": [
    {
     "name": "stdout",
     "output_type": "stream",
     "text": [
      "0.6460176991150443 0.5011498678312838 0.5644366069204285\n"
     ]
    }
   ],
   "source": [
    "k, ws = 1, 128\n",
    "res = [modified_metrics_simple(predictions, labels, label_num, k) for predictions, labels, label_num in \\\n",
    "           zip(test_res_bce.predictions.reshape(-1, 128), test_res_bce.label_ids.reshape(-1, 128), label_nums)]\n",
    "res = [item for item in res if item != None]\n",
    "ps, rs, fs = [v[0] for v in res], [v[1] for v in res], [v[2] for v in res]\n",
    "print(sum(ps) / len(ps), sum(rs) / len(rs), f1_score(sum(ps) / len(ps), sum(rs) / len(rs)))"
   ]
  },
  {
   "cell_type": "code",
   "execution_count": 27,
   "id": "9ca5347a-eef5-403c-b5a2-b15b010b9cfc",
   "metadata": {},
   "outputs": [
    {
     "name": "stdout",
     "output_type": "stream",
     "text": [
      "0.6407079646017699 0.4966092020074321 0.5595298837690412\n"
     ]
    }
   ],
   "source": [
    "k, ws = 1, 256\n",
    "res = [modified_metrics_simple(predictions, labels, label_num, k) for predictions, labels, label_num in \\\n",
    "           zip(test_res_bce.predictions.reshape(-1, 256), test_res_bce.label_ids.reshape(-1, 256), label_nums)]\n",
    "res = [item for item in res if item != None]\n",
    "ps, rs, fs = [v[0] for v in res], [v[1] for v in res], [v[2] for v in res]\n",
    "print(sum(ps) / len(ps), sum(rs) / len(rs), f1_score(sum(ps) / len(ps), sum(rs) / len(rs)))"
   ]
  },
  {
   "cell_type": "code",
   "execution_count": 59,
   "id": "146d2298-807e-43e2-8bd2-b91d1357f1a6",
   "metadata": {},
   "outputs": [
    {
     "name": "stdout",
     "output_type": "stream",
     "text": [
      "0.7244837758112096 0.7049076734474966 0.7145616732524707\n"
     ]
    }
   ],
   "source": [
    "k, ws = 3, 2048\n",
    "res = [modified_metrics_simple(predictions, labels, label_num, k) for predictions, labels, label_num in \\\n",
    "           zip(test_res_bce.predictions.reshape(-1, ws), test_res_bce.label_ids.reshape(-1, ws), label_nums)]\n",
    "res = [item for item in res if item != None]\n",
    "ps, rs, fs = [v[0] for v in res], [v[1] for v in res], [v[2] for v in res]\n",
    "print(sum(ps) / len(ps), sum(rs) / len(rs), f1_score(sum(ps) / len(ps), sum(rs) / len(rs)))"
   ]
  },
  {
   "cell_type": "code",
   "execution_count": 41,
   "id": "45e2d5e0-4ac1-4785-a639-f06ff5a25271",
   "metadata": {},
   "outputs": [
    {
     "name": "stdout",
     "output_type": "stream",
     "text": [
      "0.7094395280235991 0.6900109182852546 0.6995903591878746\n"
     ]
    }
   ],
   "source": [
    "k, ws = 3, 256\n",
    "res = [modified_metrics_simple(predictions, labels, label_num, k) for predictions, labels, label_num in \\\n",
    "           zip(test_res_bce.predictions.reshape(-1, 256), test_res_bce.label_ids.reshape(-1, 256), label_nums)]\n",
    "res = [item for item in res if item != None]\n",
    "ps, rs, fs = [v[0] for v in res], [v[1] for v in res], [v[2] for v in res]\n",
    "print(sum(ps) / len(ps), sum(rs) / len(rs), f1_score(sum(ps) / len(ps), sum(rs) / len(rs)))"
   ]
  },
  {
   "cell_type": "code",
   "execution_count": 81,
   "id": "1dc2aa95-8f27-41a9-b612-16a319212233",
   "metadata": {},
   "outputs": [
    {
     "name": "stdout",
     "output_type": "stream",
     "text": [
      "0.6707964601769911 0.5222413132590122 0.5872699625987495\n"
     ]
    }
   ],
   "source": [
    "k, ws = 1, 128\n",
    "res = [modified_metrics_simple(predictions, labels, label_num, k) for predictions, labels, label_num in \\\n",
    "           zip(test_res_bce.predictions.reshape(-1, 256), test_res_bce.label_ids.reshape(-1, 256), label_nums)]\n",
    "res = [item for item in res if item != None]\n",
    "ps, rs, fs = [v[0] for v in res], [v[1] for v in res], [v[2] for v in res]\n",
    "print(sum(ps) / len(ps), sum(rs) / len(rs), f1_score(sum(ps) / len(ps), sum(rs) / len(rs)))"
   ]
  },
  {
   "cell_type": "code",
   "execution_count": 15,
   "id": "12fcb307-b6ba-418a-a29a-e392ee4fb02a",
   "metadata": {},
   "outputs": [
    {
     "name": "stdout",
     "output_type": "stream",
     "text": [
      "0.6690265486725664 0.5204566524920508 0.5854631954608753\n"
     ]
    }
   ],
   "source": [
    "k, ws = 1, 2048\n",
    "res = [modified_metrics_simple(predictions, labels, label_num, k) for predictions, labels, label_num in \\\n",
    "           zip(test_res_bce.predictions.reshape(-1, ws), test_res_bce.label_ids.reshape(-1, ws), label_nums)]\n",
    "res = [item for item in res if item != None]\n",
    "ps, rs, fs = [v[0] for v in res], [v[1] for v in res], [v[2] for v in res]\n",
    "print(sum(ps) / len(ps), sum(rs) / len(rs), f1_score(sum(ps) / len(ps), sum(rs) / len(rs)))"
   ]
  },
  {
   "cell_type": "code",
   "execution_count": 21,
   "id": "8ea2d600-2861-43db-98c1-91c2ca5e9415",
   "metadata": {},
   "outputs": [
    {
     "name": "stdout",
     "output_type": "stream",
     "text": [
      "0.5681415929203539 0.4400879209286291 0.4959828074599471\n"
     ]
    }
   ],
   "source": [
    "k, ws = 1, 4096\n",
    "res = [modified_metrics_simple(predictions, labels, label_num, k) for predictions, labels, label_num in \\\n",
    "           zip(test_res_bce_4096.predictions.reshape(-1, ws), test_res_bce_4096.label_ids.reshape(-1, ws), label_nums)]\n",
    "res = [item for item in res if item != None]\n",
    "ps, rs, fs = [v[0] for v in res], [v[1] for v in res], [v[2] for v in res]\n",
    "print(sum(ps) / len(ps), sum(rs) / len(rs), f1_score(sum(ps) / len(ps), sum(rs) / len(rs)))"
   ]
  },
  {
   "cell_type": "code",
   "execution_count": null,
   "id": "065e7c4f-7dc1-4b26-a54d-f091a51cdbba",
   "metadata": {},
   "outputs": [],
   "source": [
    "test_set_raw[0]['top_k']"
   ]
  },
  {
   "cell_type": "code",
   "execution_count": 10,
   "id": "d1b7a820-ceaa-4cf0-9fce-9b5473e4ff7c",
   "metadata": {},
   "outputs": [],
   "source": [
    "def combine_output(test_set_raw, test_res_bce, num):\n",
    "    predictions = test_res_bce.predictions.reshape(-1, num)\n",
    "    test_output = [{'cve_id': vuln['cve_id'], 'desc': vuln['desc'], \\\n",
    "                    'labels': vuln['labels'], 'top_k':[]} for vuln in test_set_raw]\n",
    "    for vuln_raw, vuln, scores in zip(test_set_raw, test_output, test_res_bce.predictions.reshape(-1, num)):\n",
    "        vuln['top_k'] = [{'lib_name': lib['lib_name'], 're_rank_score': float(score)} \\\n",
    "                         for (lib, score) in zip(vuln_raw['top_k'], scores)]\n",
    "    return test_output"
   ]
  },
  {
   "cell_type": "code",
   "execution_count": 12,
   "id": "fbbdabee-94ce-46b7-bc04-1c4d085913e0",
   "metadata": {},
   "outputs": [],
   "source": [
    "output = combine_output(test_set_raw, test_res_bce_4096, 4096)"
   ]
  },
  {
   "cell_type": "code",
   "execution_count": 61,
   "id": "2efc23bf-3095-43d8-9512-809d35c1661b",
   "metadata": {},
   "outputs": [],
   "source": [
    "output = combine_output(test_set_raw, test_res_bce, 2048)"
   ]
  },
  {
   "cell_type": "code",
   "execution_count": 14,
   "id": "9a403bb5-4a7f-43e2-becb-418a3038167e",
   "metadata": {},
   "outputs": [],
   "source": [
    "with open(os.path.join('/data/chentianyu/libminer/output/eval_result_v1_bce_weight_4096/test.json'), 'w') as f:\n",
    "    json.dump(output, f)"
   ]
  },
  {
   "cell_type": "code",
   "execution_count": 94,
   "id": "7b89dffa-125a-4587-a049-d01fe8a7cb72",
   "metadata": {},
   "outputs": [
    {
     "data": {
      "text/plain": [
       "0.7590006895759108"
      ]
     },
     "execution_count": 94,
     "metadata": {},
     "output_type": "execute_result"
    }
   ],
   "source": [
    "rec_pre = [sum(item)/num for item, num in zip(test_res.label_ids.reshape(-1, 128), label_nums) if num > 0]\n",
    "sum(rec_pre) / len(rec_pre)"
   ]
  },
  {
   "cell_type": "code",
   "execution_count": 89,
   "id": "8ad7e373-610c-41f9-842e-818cf2655931",
   "metadata": {},
   "outputs": [
    {
     "data": {
      "text/plain": [
       "0.7148554336989033"
      ]
     },
     "execution_count": 89,
     "metadata": {},
     "output_type": "execute_result"
    }
   ],
   "source": [
    "717/1003"
   ]
  },
  {
   "cell_type": "code",
   "execution_count": 55,
   "id": "23e97a9c-0380-4cc7-9e6d-389fbf051320",
   "metadata": {},
   "outputs": [
    {
     "data": {
      "text/plain": [
       "3"
      ]
     },
     "execution_count": 55,
     "metadata": {},
     "output_type": "execute_result"
    }
   ],
   "source": [
    "sum(test_res.label_ids[:512])"
   ]
  },
  {
   "cell_type": "code",
   "execution_count": 44,
   "id": "bd203b6d-78a7-4825-bc4c-71ca1a0b32df",
   "metadata": {},
   "outputs": [
    {
     "data": {
      "text/plain": [
       "(633, 128)"
      ]
     },
     "execution_count": 44,
     "metadata": {},
     "output_type": "execute_result"
    }
   ],
   "source": [
    "test_res.predictions.reshape(-1, 128).shape"
   ]
  },
  {
   "cell_type": "code",
   "execution_count": null,
   "id": "7d2a2260-84b3-4918-868a-1c9e5670a33e",
   "metadata": {},
   "outputs": [],
   "source": [
    "for item in zip(test_res.predictions.reshape(-1, 128), test_res.label_ids.reshape(-1, 128)):\n",
    "    print(item, sum(item[1]))\n",
    "    break"
   ]
  },
  {
   "cell_type": "code",
   "execution_count": null,
   "id": "f998a637-2e96-4a6f-937a-3541bd67d97e",
   "metadata": {},
   "outputs": [],
   "source": []
  },
  {
   "cell_type": "code",
   "execution_count": null,
   "id": "37b91d51-8485-4300-b345-8feb4b64fecc",
   "metadata": {},
   "outputs": [],
   "source": [
    "torch.nn.BCEWithLogitsLoss??"
   ]
  },
  {
   "cell_type": "code",
   "execution_count": 28,
   "id": "51328790-6169-468b-b9e3-c3fbf5e31370",
   "metadata": {},
   "outputs": [],
   "source": [
    "loss_fct = torch.nn.CrossEntropyLoss()\n",
    "loss = loss_fct(torch.tensor([[-500, 103], [-100.0, 100.0]]).view(-1, 2), torch.tensor([0, 1]).view(-1))"
   ]
  },
  {
   "cell_type": "code",
   "execution_count": null,
   "id": "e7f3b40f-7bc3-4e0a-877b-16b0feeec62a",
   "metadata": {},
   "outputs": [],
   "source": [
    "torch.nn.functional.binary_cross_entropy_with_logits??"
   ]
  },
  {
   "cell_type": "code",
   "execution_count": null,
   "id": "310beea0-c604-4b86-bfc1-41048840400e",
   "metadata": {},
   "outputs": [],
   "source": [
    "BertForSequenceClassification??"
   ]
  },
  {
   "cell_type": "code",
   "execution_count": 131,
   "id": "bfd55001-c449-4849-a7a5-7ee0291238cd",
   "metadata": {},
   "outputs": [
    {
     "data": {
      "text/plain": [
       "tensor([0, 0, 1])"
      ]
     },
     "execution_count": 131,
     "metadata": {},
     "output_type": "execute_result"
    }
   ],
   "source": [
    "1 - torch.tensor([1, 1, 0])"
   ]
  }
 ],
 "metadata": {
  "kernelspec": {
   "display_name": "Python 3 (ipykernel)",
   "language": "python",
   "name": "python3"
  },
  "language_info": {
   "codemirror_mode": {
    "name": "ipython",
    "version": 3
   },
   "file_extension": ".py",
   "mimetype": "text/x-python",
   "name": "python",
   "nbconvert_exporter": "python",
   "pygments_lexer": "ipython3",
   "version": "3.9.11"
  }
 },
 "nbformat": 4,
 "nbformat_minor": 5
}
