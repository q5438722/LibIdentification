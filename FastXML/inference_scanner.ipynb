{
 "cells": [
  {
   "cell_type": "code",
   "execution_count": 1,
   "id": "c9145d6a-f82a-4311-96d2-921cfedae1e0",
   "metadata": {
    "tags": []
   },
   "outputs": [],
   "source": [
    "import jsonlines"
   ]
  },
  {
   "cell_type": "code",
   "execution_count": 2,
   "id": "31cfd1a5-cde7-42a2-b1d8-37377d24d6dc",
   "metadata": {
    "tags": []
   },
   "outputs": [],
   "source": [
    "res = []\n",
    "with jsonlines.open('inference_result_vul_lib.json', 'r') as reader:\n",
    "    for item in reader:\n",
    "        res.append(item)"
   ]
  },
  {
   "cell_type": "code",
   "execution_count": 9,
   "id": "be319a46-23c7-44aa-85bf-f3a8844ca106",
   "metadata": {
    "tags": []
   },
   "outputs": [],
   "source": [
    "res = []\n",
    "with jsonlines.open('inference_result.json', 'r') as reader:\n",
    "    for item in reader:\n",
    "        res.append(item)"
   ]
  },
  {
   "cell_type": "code",
   "execution_count": 6,
   "id": "8ae9c8d2-540f-4a27-8232-4592bc1adbec",
   "metadata": {
    "tags": []
   },
   "outputs": [],
   "source": [
    "def precision(vuln, k):\n",
    "    preds = [item[0] for item in vuln['predict']][:k]\n",
    "    labels = vuln['tags']\n",
    "    intersection = set(preds) & set(labels)\n",
    "    return len(intersection) / min(k, len(labels))\n",
    "\n",
    "def recall(vuln, k):\n",
    "    preds = [item[0] for item in vuln['predict']][:k]\n",
    "    labels = vuln['tags']\n",
    "    intersection = set(preds) & set(labels)\n",
    "    return len(intersection) / len(labels)\n",
    "\n",
    "def f1_score(p, r):\n",
    "    return 2 * p * r / (p + r)"
   ]
  },
  {
   "cell_type": "code",
   "execution_count": 10,
   "id": "7f46e10d-e203-4fbe-966f-545ba6e8a7ba",
   "metadata": {
    "tags": []
   },
   "outputs": [
    {
     "name": "stdout",
     "output_type": "stream",
     "text": [
      "1 0.25705329153605017 0.15734064785788923 0.19520040029271007\n",
      "2 0.24921630094043887 0.21339887907286023 0.22992102968106404\n",
      "3 0.26071055381400216 0.24555666381685193 0.25290681121324343\n"
     ]
    }
   ],
   "source": [
    "for k in range(1, 4):\n",
    "    p = [precision(vuln, k) for vuln in res]\n",
    "    r = [recall(vuln, k) for vuln in res]\n",
    "    print(k, sum(p) / len(p), sum(r) / len(r), f1_score(sum(p) / len(p), sum(r) / len(r)))"
   ]
  },
  {
   "cell_type": "code",
   "execution_count": 7,
   "id": "ab9cbb14-d1be-42d7-8532-b4f387cf7007",
   "metadata": {
    "tags": []
   },
   "outputs": [
    {
     "data": {
      "text/plain": [
       "{'precision': [0.0, 0.0, 0.0],\n",
       " 'title': 'jenkins mac plugin earlier validate ssh host keys connecting agents created plugin enabling man middle attacks',\n",
       " 'predict': [['maven:org.jenkins-ci.plugins:ec2', 0.372991144657135],\n",
       "  ['maven:org.jenkins-ci.main:jenkins-core', 0.2708147466182709],\n",
       "  ['maven:org.jenkins-ci.plugins:script-security', 0.0809461772441864],\n",
       "  ['maven:io.jenkins:configuration-as-code', 0.05086805671453476],\n",
       "  ['maven:org.jvnet.hudson.main:hudson-core', 0.04923735558986664],\n",
       "  ['maven:mysql:mysql-connector-java', 0.0217633917927742],\n",
       "  ['maven:org.springframework:spring-webmvc', 0.015625],\n",
       "  ['maven:org.apache.syncope:syncope-core', 0.015625],\n",
       "  ['maven:org.webjars.npm:node-sass', 0.01493055559694767],\n",
       "  ['maven:org.apache.tomcat.embed:tomcat-embed-core', 0.0147569440305233]],\n",
       " 'ndcg': [0.0, 0.0, 0.0],\n",
       " 'tags': ['maven:fr.edf.jenkins.plugins:mac'],\n",
       " 'pSndcg': [0.0, 0.0, 0.0]}"
      ]
     },
     "execution_count": 7,
     "metadata": {},
     "output_type": "execute_result"
    }
   ],
   "source": [
    "res[0]"
   ]
  },
  {
   "cell_type": "code",
   "execution_count": null,
   "id": "e8528681-9373-4b1d-8ee3-8b06ff0a52a2",
   "metadata": {},
   "outputs": [],
   "source": []
  }
 ],
 "metadata": {
  "kernelspec": {
   "display_name": "Python 3 (ipykernel)",
   "language": "python",
   "name": "python3"
  },
  "language_info": {
   "codemirror_mode": {
    "name": "ipython",
    "version": 3
   },
   "file_extension": ".py",
   "mimetype": "text/x-python",
   "name": "python",
   "nbconvert_exporter": "python",
   "pygments_lexer": "ipython3",
   "version": "3.10.13"
  }
 },
 "nbformat": 4,
 "nbformat_minor": 5
}
